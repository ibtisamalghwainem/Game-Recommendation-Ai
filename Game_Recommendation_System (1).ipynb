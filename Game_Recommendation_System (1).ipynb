{
  "cells": [
    {
      "cell_type": "markdown",
      "metadata": {
        "id": "BwVWMUjxPiPX"
      },
      "source": [
        "# **Game Recommendation System**"
      ]
    },
    {
      "cell_type": "markdown",
      "metadata": {
        "id": "avo63BT0PlPE"
      },
      "source": [
        "# **DATA Initialization**\n"
      ]
    },
    {
      "cell_type": "code",
      "execution_count": null,
      "metadata": {
        "id": "8efd4936"
      },
      "outputs": [],
      "source": [
        "# Reproducibility\n",
        "import random, numpy as _np\n",
        "random.seed(42)\n",
        "_np.random.seed(42)\n",
        "import warnings\n",
        "warnings.filterwarnings('ignore')\n"
      ]
    },
    {
      "cell_type": "markdown",
      "metadata": {
        "id": "N6uZMiMWO6Am"
      },
      "source": [
        "## **Data Inspection 🔍**"
      ]
    },
    {
      "cell_type": "code",
      "execution_count": null,
      "metadata": {
        "id": "RvhWpFxg32qX"
      },
      "outputs": [],
      "source": [
        "from google.colab import files\n",
        "import pandas as pd\n",
        "import numpy as np\n",
        "import matplotlib.pyplot as plt\n",
        "import seaborn as sns\n",
        "from sklearn.preprocessing import LabelEncoder\n",
        "from sklearn.preprocessing import StandardScaler\n",
        "from sklearn.cluster import DBSCAN, KMeans\n",
        "from sklearn.metrics import davies_bouldin_score, silhouette_score\n"
      ]
    },
    {
      "cell_type": "code",
      "execution_count": null,
      "metadata": {
        "colab": {
          "base_uri": "https://localhost:8080/",
          "height": 269
        },
        "id": "w-z3MMWnvRBh",
        "outputId": "a6ec0d4b-c539-41e8-98d4-cee336135987"
      },
      "outputs": [
        {
          "data": {
            "application/vnd.google.colaboratory.intrinsic+json": {
              "summary": "{\n  \"name\": \"df\",\n  \"rows\": 20000,\n  \"fields\": [\n    {\n      \"column\": \"UserID\",\n      \"properties\": {\n        \"dtype\": \"number\",\n        \"std\": 4046360.9251234126,\n        \"min\": 369.0,\n        \"max\": 14306011.0,\n        \"num_unique_values\": 19199,\n        \"samples\": [\n          11471550.0,\n          12249169.0,\n          8019682.0\n        ],\n        \"semantic_type\": \"\",\n        \"description\": \"\"\n      }\n    },\n    {\n      \"column\": \"GameName\",\n      \"properties\": {\n        \"dtype\": \"category\",\n        \"num_unique_values\": 197,\n        \"samples\": [\n          \"Call of Duty\\u00ae: Black Ops III\",\n          \"Inscryption\",\n          \"The Elder Scrolls V: Skyrim Special Edition\"\n        ],\n        \"semantic_type\": \"\",\n        \"description\": \"\"\n      }\n    },\n    {\n      \"column\": \"Hours\",\n      \"properties\": {\n        \"dtype\": \"number\",\n        \"std\": 121.23583254892729,\n        \"min\": 0.1,\n        \"max\": 4659.0,\n        \"num_unique_values\": 633,\n        \"samples\": [\n          6.2,\n          228.0,\n          111.0\n        ],\n        \"semantic_type\": \"\",\n        \"description\": \"\"\n      }\n    },\n    {\n      \"column\": \"Behavior\",\n      \"properties\": {\n        \"dtype\": \"category\",\n        \"num_unique_values\": 2,\n        \"samples\": [\n          \"play\",\n          \"purchase\"\n        ],\n        \"semantic_type\": \"\",\n        \"description\": \"\"\n      }\n    },\n    {\n      \"column\": \"Categories\",\n      \"properties\": {\n        \"dtype\": \"category\",\n        \"num_unique_values\": 5,\n        \"samples\": [\n          \"Single-player, Multi-player\",\n          \"Utility\"\n        ],\n        \"semantic_type\": \"\",\n        \"description\": \"\"\n      }\n    },\n    {\n      \"column\": \"Genres\",\n      \"properties\": {\n        \"dtype\": \"category\",\n        \"num_unique_values\": 53,\n        \"samples\": [\n          \"['Adventure']\",\n          \"['Survival', 'Co-op']\"\n        ],\n        \"semantic_type\": \"\",\n        \"description\": \"\"\n      }\n    },\n    {\n      \"column\": \"is_recommended\",\n      \"properties\": {\n        \"dtype\": \"boolean\",\n        \"num_unique_values\": 2,\n        \"samples\": [\n          false,\n          true\n        ],\n        \"semantic_type\": \"\",\n        \"description\": \"\"\n      }\n    }\n  ]\n}",
              "type": "dataframe",
              "variable_name": "df"
            },
            "text/html": [
              "\n",
              "  <div id=\"df-1008c5c9-8cff-4bd4-8ac9-ff631aaa2db1\" class=\"colab-df-container\">\n",
              "    <div>\n",
              "<style scoped>\n",
              "    .dataframe tbody tr th:only-of-type {\n",
              "        vertical-align: middle;\n",
              "    }\n",
              "\n",
              "    .dataframe tbody tr th {\n",
              "        vertical-align: top;\n",
              "    }\n",
              "\n",
              "    .dataframe thead th {\n",
              "        text-align: right;\n",
              "    }\n",
              "</style>\n",
              "<table border=\"1\" class=\"dataframe\">\n",
              "  <thead>\n",
              "    <tr style=\"text-align: right;\">\n",
              "      <th></th>\n",
              "      <th>75721</th>\n",
              "      <th>80184</th>\n",
              "      <th>19864</th>\n",
              "      <th>76699</th>\n",
              "      <th>92991</th>\n",
              "    </tr>\n",
              "  </thead>\n",
              "  <tbody>\n",
              "    <tr>\n",
              "      <th>UserID</th>\n",
              "      <td>9181665.0</td>\n",
              "      <td>11531502.0</td>\n",
              "      <td>1299092.0</td>\n",
              "      <td>13862042.0</td>\n",
              "      <td>6282199.0</td>\n",
              "    </tr>\n",
              "    <tr>\n",
              "      <th>GameName</th>\n",
              "      <td>FOR HONOR™</td>\n",
              "      <td>Grand Theft Auto V</td>\n",
              "      <td>No Man's Sky</td>\n",
              "      <td>Grand Theft Auto V</td>\n",
              "      <td>Grand Theft Auto V</td>\n",
              "    </tr>\n",
              "    <tr>\n",
              "      <th>Hours</th>\n",
              "      <td>1.0</td>\n",
              "      <td>1.0</td>\n",
              "      <td>249.0</td>\n",
              "      <td>3.4</td>\n",
              "      <td>1.0</td>\n",
              "    </tr>\n",
              "    <tr>\n",
              "      <th>Behavior</th>\n",
              "      <td>purchase</td>\n",
              "      <td>purchase</td>\n",
              "      <td>play</td>\n",
              "      <td>play</td>\n",
              "      <td>purchase</td>\n",
              "    </tr>\n",
              "    <tr>\n",
              "      <th>Categories</th>\n",
              "      <td>Multi-player</td>\n",
              "      <td>Single-player, Multi-player</td>\n",
              "      <td>Single-player, Multi-player</td>\n",
              "      <td>Not Classified</td>\n",
              "      <td>Not Classified</td>\n",
              "    </tr>\n",
              "    <tr>\n",
              "      <th>Genres</th>\n",
              "      <td>['Action']</td>\n",
              "      <td>['Action', 'Adventure']</td>\n",
              "      <td>['Adventure', 'Simulation']</td>\n",
              "      <td>['Strategy']</td>\n",
              "      <td>['Action', 'Adventure']</td>\n",
              "    </tr>\n",
              "    <tr>\n",
              "      <th>is_recommended</th>\n",
              "      <td>True</td>\n",
              "      <td>True</td>\n",
              "      <td>True</td>\n",
              "      <td>False</td>\n",
              "      <td>False</td>\n",
              "    </tr>\n",
              "  </tbody>\n",
              "</table>\n",
              "</div>\n",
              "    <div class=\"colab-df-buttons\">\n",
              "\n",
              "  <div class=\"colab-df-container\">\n",
              "    <button class=\"colab-df-convert\" onclick=\"convertToInteractive('df-1008c5c9-8cff-4bd4-8ac9-ff631aaa2db1')\"\n",
              "            title=\"Convert this dataframe to an interactive table.\"\n",
              "            style=\"display:none;\">\n",
              "\n",
              "  <svg xmlns=\"http://www.w3.org/2000/svg\" height=\"24px\" viewBox=\"0 -960 960 960\">\n",
              "    <path d=\"M120-120v-720h720v720H120Zm60-500h600v-160H180v160Zm220 220h160v-160H400v160Zm0 220h160v-160H400v160ZM180-400h160v-160H180v160Zm440 0h160v-160H620v160ZM180-180h160v-160H180v160Zm440 0h160v-160H620v160Z\"/>\n",
              "  </svg>\n",
              "    </button>\n",
              "\n",
              "  <style>\n",
              "    .colab-df-container {\n",
              "      display:flex;\n",
              "      gap: 12px;\n",
              "    }\n",
              "\n",
              "    .colab-df-convert {\n",
              "      background-color: #E8F0FE;\n",
              "      border: none;\n",
              "      border-radius: 50%;\n",
              "      cursor: pointer;\n",
              "      display: none;\n",
              "      fill: #1967D2;\n",
              "      height: 32px;\n",
              "      padding: 0 0 0 0;\n",
              "      width: 32px;\n",
              "    }\n",
              "\n",
              "    .colab-df-convert:hover {\n",
              "      background-color: #E2EBFA;\n",
              "      box-shadow: 0px 1px 2px rgba(60, 64, 67, 0.3), 0px 1px 3px 1px rgba(60, 64, 67, 0.15);\n",
              "      fill: #174EA6;\n",
              "    }\n",
              "\n",
              "    .colab-df-buttons div {\n",
              "      margin-bottom: 4px;\n",
              "    }\n",
              "\n",
              "    [theme=dark] .colab-df-convert {\n",
              "      background-color: #3B4455;\n",
              "      fill: #D2E3FC;\n",
              "    }\n",
              "\n",
              "    [theme=dark] .colab-df-convert:hover {\n",
              "      background-color: #434B5C;\n",
              "      box-shadow: 0px 1px 3px 1px rgba(0, 0, 0, 0.15);\n",
              "      filter: drop-shadow(0px 1px 2px rgba(0, 0, 0, 0.3));\n",
              "      fill: #FFFFFF;\n",
              "    }\n",
              "  </style>\n",
              "\n",
              "    <script>\n",
              "      const buttonEl =\n",
              "        document.querySelector('#df-1008c5c9-8cff-4bd4-8ac9-ff631aaa2db1 button.colab-df-convert');\n",
              "      buttonEl.style.display =\n",
              "        google.colab.kernel.accessAllowed ? 'block' : 'none';\n",
              "\n",
              "      async function convertToInteractive(key) {\n",
              "        const element = document.querySelector('#df-1008c5c9-8cff-4bd4-8ac9-ff631aaa2db1');\n",
              "        const dataTable =\n",
              "          await google.colab.kernel.invokeFunction('convertToInteractive',\n",
              "                                                    [key], {});\n",
              "        if (!dataTable) return;\n",
              "\n",
              "        const docLinkHtml = 'Like what you see? Visit the ' +\n",
              "          '<a target=\"_blank\" href=https://colab.research.google.com/notebooks/data_table.ipynb>data table notebook</a>'\n",
              "          + ' to learn more about interactive tables.';\n",
              "        element.innerHTML = '';\n",
              "        dataTable['output_type'] = 'display_data';\n",
              "        await google.colab.output.renderOutput(dataTable, element);\n",
              "        const docLink = document.createElement('div');\n",
              "        docLink.innerHTML = docLinkHtml;\n",
              "        element.appendChild(docLink);\n",
              "      }\n",
              "    </script>\n",
              "  </div>\n",
              "\n",
              "\n",
              "    <div id=\"df-697b77ec-352a-4e21-8d25-f4149a85c50c\">\n",
              "      <button class=\"colab-df-quickchart\" onclick=\"quickchart('df-697b77ec-352a-4e21-8d25-f4149a85c50c')\"\n",
              "                title=\"Suggest charts\"\n",
              "                style=\"display:none;\">\n",
              "\n",
              "<svg xmlns=\"http://www.w3.org/2000/svg\" height=\"24px\"viewBox=\"0 0 24 24\"\n",
              "     width=\"24px\">\n",
              "    <g>\n",
              "        <path d=\"M19 3H5c-1.1 0-2 .9-2 2v14c0 1.1.9 2 2 2h14c1.1 0 2-.9 2-2V5c0-1.1-.9-2-2-2zM9 17H7v-7h2v7zm4 0h-2V7h2v10zm4 0h-2v-4h2v4z\"/>\n",
              "    </g>\n",
              "</svg>\n",
              "      </button>\n",
              "\n",
              "<style>\n",
              "  .colab-df-quickchart {\n",
              "      --bg-color: #E8F0FE;\n",
              "      --fill-color: #1967D2;\n",
              "      --hover-bg-color: #E2EBFA;\n",
              "      --hover-fill-color: #174EA6;\n",
              "      --disabled-fill-color: #AAA;\n",
              "      --disabled-bg-color: #DDD;\n",
              "  }\n",
              "\n",
              "  [theme=dark] .colab-df-quickchart {\n",
              "      --bg-color: #3B4455;\n",
              "      --fill-color: #D2E3FC;\n",
              "      --hover-bg-color: #434B5C;\n",
              "      --hover-fill-color: #FFFFFF;\n",
              "      --disabled-bg-color: #3B4455;\n",
              "      --disabled-fill-color: #666;\n",
              "  }\n",
              "\n",
              "  .colab-df-quickchart {\n",
              "    background-color: var(--bg-color);\n",
              "    border: none;\n",
              "    border-radius: 50%;\n",
              "    cursor: pointer;\n",
              "    display: none;\n",
              "    fill: var(--fill-color);\n",
              "    height: 32px;\n",
              "    padding: 0;\n",
              "    width: 32px;\n",
              "  }\n",
              "\n",
              "  .colab-df-quickchart:hover {\n",
              "    background-color: var(--hover-bg-color);\n",
              "    box-shadow: 0 1px 2px rgba(60, 64, 67, 0.3), 0 1px 3px 1px rgba(60, 64, 67, 0.15);\n",
              "    fill: var(--button-hover-fill-color);\n",
              "  }\n",
              "\n",
              "  .colab-df-quickchart-complete:disabled,\n",
              "  .colab-df-quickchart-complete:disabled:hover {\n",
              "    background-color: var(--disabled-bg-color);\n",
              "    fill: var(--disabled-fill-color);\n",
              "    box-shadow: none;\n",
              "  }\n",
              "\n",
              "  .colab-df-spinner {\n",
              "    border: 2px solid var(--fill-color);\n",
              "    border-color: transparent;\n",
              "    border-bottom-color: var(--fill-color);\n",
              "    animation:\n",
              "      spin 1s steps(1) infinite;\n",
              "  }\n",
              "\n",
              "  @keyframes spin {\n",
              "    0% {\n",
              "      border-color: transparent;\n",
              "      border-bottom-color: var(--fill-color);\n",
              "      border-left-color: var(--fill-color);\n",
              "    }\n",
              "    20% {\n",
              "      border-color: transparent;\n",
              "      border-left-color: var(--fill-color);\n",
              "      border-top-color: var(--fill-color);\n",
              "    }\n",
              "    30% {\n",
              "      border-color: transparent;\n",
              "      border-left-color: var(--fill-color);\n",
              "      border-top-color: var(--fill-color);\n",
              "      border-right-color: var(--fill-color);\n",
              "    }\n",
              "    40% {\n",
              "      border-color: transparent;\n",
              "      border-right-color: var(--fill-color);\n",
              "      border-top-color: var(--fill-color);\n",
              "    }\n",
              "    60% {\n",
              "      border-color: transparent;\n",
              "      border-right-color: var(--fill-color);\n",
              "    }\n",
              "    80% {\n",
              "      border-color: transparent;\n",
              "      border-right-color: var(--fill-color);\n",
              "      border-bottom-color: var(--fill-color);\n",
              "    }\n",
              "    90% {\n",
              "      border-color: transparent;\n",
              "      border-bottom-color: var(--fill-color);\n",
              "    }\n",
              "  }\n",
              "</style>\n",
              "\n",
              "      <script>\n",
              "        async function quickchart(key) {\n",
              "          const quickchartButtonEl =\n",
              "            document.querySelector('#' + key + ' button');\n",
              "          quickchartButtonEl.disabled = true;  // To prevent multiple clicks.\n",
              "          quickchartButtonEl.classList.add('colab-df-spinner');\n",
              "          try {\n",
              "            const charts = await google.colab.kernel.invokeFunction(\n",
              "                'suggestCharts', [key], {});\n",
              "          } catch (error) {\n",
              "            console.error('Error during call to suggestCharts:', error);\n",
              "          }\n",
              "          quickchartButtonEl.classList.remove('colab-df-spinner');\n",
              "          quickchartButtonEl.classList.add('colab-df-quickchart-complete');\n",
              "        }\n",
              "        (() => {\n",
              "          let quickchartButtonEl =\n",
              "            document.querySelector('#df-697b77ec-352a-4e21-8d25-f4149a85c50c button');\n",
              "          quickchartButtonEl.style.display =\n",
              "            google.colab.kernel.accessAllowed ? 'block' : 'none';\n",
              "        })();\n",
              "      </script>\n",
              "    </div>\n",
              "\n",
              "    </div>\n",
              "  </div>\n"
            ],
            "text/plain": [
              "                       75721                        80184  \\\n",
              "UserID             9181665.0                   11531502.0   \n",
              "GameName          FOR HONOR™           Grand Theft Auto V   \n",
              "Hours                    1.0                          1.0   \n",
              "Behavior            purchase                     purchase   \n",
              "Categories      Multi-player  Single-player, Multi-player   \n",
              "Genres            ['Action']      ['Action', 'Adventure']   \n",
              "is_recommended          True                         True   \n",
              "\n",
              "                                      19864               76699  \\\n",
              "UserID                            1299092.0          13862042.0   \n",
              "GameName                       No Man's Sky  Grand Theft Auto V   \n",
              "Hours                                 249.0                 3.4   \n",
              "Behavior                               play                play   \n",
              "Categories      Single-player, Multi-player      Not Classified   \n",
              "Genres          ['Adventure', 'Simulation']        ['Strategy']   \n",
              "is_recommended                         True               False   \n",
              "\n",
              "                                  92991  \n",
              "UserID                        6282199.0  \n",
              "GameName             Grand Theft Auto V  \n",
              "Hours                               1.0  \n",
              "Behavior                       purchase  \n",
              "Categories               Not Classified  \n",
              "Genres          ['Action', 'Adventure']  \n",
              "is_recommended                    False  "
            ]
          },
          "execution_count": 8,
          "metadata": {},
          "output_type": "execute_result"
        }
      ],
      "source": [
        "\n",
        "# نقرأ الملف\n",
        "df = pd.read_csv(\"/content/steamgames_100k_rows.csv\")\n",
        "\n",
        "# نعرض أول 5 أسطر للتأكد\n",
        "# NOTE: Sampling a fraction of the data for prototyping. Remove for full run.\n",
        "df = df.sample(frac=0.2, random_state=42)\n",
        "\n",
        "df.head().T"
      ]
    },
    {
      "cell_type": "code",
      "execution_count": null,
      "metadata": {
        "colab": {
          "base_uri": "https://localhost:8080/"
        },
        "id": "NiyITjdZ4Nx0",
        "outputId": "514bb9f2-ac30-45cf-af73-6fb9c68787be"
      },
      "outputs": [
        {
          "name": "stdout",
          "output_type": "stream",
          "text": [
            "Index(['UserID', 'GameName', 'Hours', 'Behavior', 'Categories', 'Genres',\n",
            "       'is_recommended'],\n",
            "      dtype='object')\n"
          ]
        }
      ],
      "source": [
        "print(df.columns)"
      ]
    },
    {
      "cell_type": "code",
      "execution_count": null,
      "metadata": {
        "colab": {
          "base_uri": "https://localhost:8080/"
        },
        "id": "YMKsnVeO4RB1",
        "outputId": "a68fc7ff-1467-4d5d-caf3-87cc8caaa3c6"
      },
      "outputs": [
        {
          "name": "stdout",
          "output_type": "stream",
          "text": [
            "🧾INFO:\n",
            "<class 'pandas.core.frame.DataFrame'>\n",
            "Index: 20000 entries, 75721 to 42410\n",
            "Data columns (total 7 columns):\n",
            " #   Column          Non-Null Count  Dtype  \n",
            "---  ------          --------------  -----  \n",
            " 0   UserID          20000 non-null  float64\n",
            " 1   GameName        20000 non-null  object \n",
            " 2   Hours           19998 non-null  float64\n",
            " 3   Behavior        19998 non-null  object \n",
            " 4   Categories      20000 non-null  object \n",
            " 5   Genres          20000 non-null  object \n",
            " 6   is_recommended  20000 non-null  bool   \n",
            "dtypes: bool(1), float64(2), object(4)\n",
            "memory usage: 1.1+ MB\n",
            "\n",
            "📐SHAPE: (20000, 7)\n",
            "\n",
            "🚫NULLS:\n",
            "UserID            0\n",
            "GameName          0\n",
            "Hours             2\n",
            "Behavior          2\n",
            "Categories        0\n",
            "Genres            0\n",
            "is_recommended    0\n",
            "dtype: int64\n",
            "\n",
            "❗❗DUPLICATES: 54\n"
          ]
        }
      ],
      "source": [
        "print('🧾INFO:')\n",
        "df.info()\n",
        "\n",
        "print('\\n📐SHAPE:',df.shape)\n",
        "\n",
        "print('\\n🚫NULLS:')\n",
        "print(df.isna().sum())\n",
        "\n",
        "print('\\n❗❗DUPLICATES:',df.duplicated().sum())"
      ]
    },
    {
      "cell_type": "markdown",
      "metadata": {
        "id": "iq0-tPobQKw4"
      },
      "source": [
        "## **Data Cleaning 🧹**"
      ]
    },
    {
      "cell_type": "code",
      "execution_count": null,
      "metadata": {
        "colab": {
          "base_uri": "https://localhost:8080/"
        },
        "id": "9SAEXuNc4i4v",
        "outputId": "2f76b270-a1a8-4925-9505-13e9e0ba5f29"
      },
      "outputs": [
        {
          "name": "stdout",
          "output_type": "stream",
          "text": [
            "(19946, 7)\n"
          ]
        }
      ],
      "source": [
        "df.drop_duplicates(inplace=True)\n",
        "print(df.shape)"
      ]
    },
    {
      "cell_type": "code",
      "execution_count": null,
      "metadata": {
        "colab": {
          "base_uri": "https://localhost:8080/"
        },
        "id": "VWIsBop_XmxM",
        "outputId": "849e2458-877e-451b-b544-29924e47cb91"
      },
      "outputs": [
        {
          "name": "stdout",
          "output_type": "stream",
          "text": [
            "UserID            0\n",
            "GameName          0\n",
            "Hours             0\n",
            "Behavior          0\n",
            "Categories        0\n",
            "Genres            0\n",
            "is_recommended    0\n",
            "dtype: int64\n"
          ]
        },
        {
          "name": "stderr",
          "output_type": "stream",
          "text": [
            "/tmp/ipython-input-682318645.py:2: FutureWarning: A value is trying to be set on a copy of a DataFrame or Series through chained assignment using an inplace method.\n",
            "The behavior will change in pandas 3.0. This inplace method will never work because the intermediate object on which we are setting values always behaves as a copy.\n",
            "\n",
            "For example, when doing 'df[col].method(value, inplace=True)', try using 'df.method({col: value}, inplace=True)' or df[col] = df[col].method(value) instead, to perform the operation inplace on the original object.\n",
            "\n",
            "\n",
            "  df['Hours'].fillna(df['Hours'].mean(), inplace=True)\n",
            "/tmp/ipython-input-682318645.py:5: FutureWarning: A value is trying to be set on a copy of a DataFrame or Series through chained assignment using an inplace method.\n",
            "The behavior will change in pandas 3.0. This inplace method will never work because the intermediate object on which we are setting values always behaves as a copy.\n",
            "\n",
            "For example, when doing 'df[col].method(value, inplace=True)', try using 'df.method({col: value}, inplace=True)' or df[col] = df[col].method(value) instead, to perform the operation inplace on the original object.\n",
            "\n",
            "\n",
            "  df['Behavior'].fillna(df['Behavior'].mode()[0], inplace=True)\n"
          ]
        }
      ],
      "source": [
        "# Replace missing values in 'Hours' with the mean\n",
        "df['Hours'].fillna(df['Hours'].mean(), inplace=True)\n",
        "\n",
        "# Replace missing values in 'Behavior' with the mode\n",
        "df['Behavior'].fillna(df['Behavior'].mode()[0], inplace=True)\n",
        "\n",
        "# Now you can check for null values again to confirm they are all gone\n",
        "print(df.isnull().sum())"
      ]
    },
    {
      "cell_type": "code",
      "execution_count": null,
      "metadata": {
        "colab": {
          "base_uri": "https://localhost:8080/"
        },
        "id": "ttfnsun36TXp",
        "outputId": "89974eef-8923-4b97-c1d8-54e598ba9bbd"
      },
      "outputs": [
        {
          "name": "stdout",
          "output_type": "stream",
          "text": [
            "🧾INFO:\n",
            "<class 'pandas.core.frame.DataFrame'>\n",
            "Index: 19946 entries, 75721 to 42410\n",
            "Data columns (total 7 columns):\n",
            " #   Column          Non-Null Count  Dtype  \n",
            "---  ------          --------------  -----  \n",
            " 0   UserID          19946 non-null  float64\n",
            " 1   GameName        19946 non-null  object \n",
            " 2   Hours           19946 non-null  float64\n",
            " 3   Behavior        19946 non-null  object \n",
            " 4   Categories      19946 non-null  object \n",
            " 5   Genres          19946 non-null  object \n",
            " 6   is_recommended  19946 non-null  bool   \n",
            "dtypes: bool(1), float64(2), object(4)\n",
            "memory usage: 1.1+ MB\n",
            "\n",
            "🔍HEAD:\n"
          ]
        },
        {
          "data": {
            "application/vnd.google.colaboratory.intrinsic+json": {
              "summary": "{\n  \"name\": \"df\",\n  \"rows\": 19946,\n  \"fields\": [\n    {\n      \"column\": \"UserID\",\n      \"properties\": {\n        \"dtype\": \"number\",\n        \"std\": 4046324.26227186,\n        \"min\": 369.0,\n        \"max\": 14306011.0,\n        \"num_unique_values\": 19199,\n        \"samples\": [\n          11471550.0,\n          12249169.0,\n          8019682.0\n        ],\n        \"semantic_type\": \"\",\n        \"description\": \"\"\n      }\n    },\n    {\n      \"column\": \"GameName\",\n      \"properties\": {\n        \"dtype\": \"category\",\n        \"num_unique_values\": 197,\n        \"samples\": [\n          \"Call of Duty\\u00ae: Black Ops III\",\n          \"Inscryption\",\n          \"The Elder Scrolls V: Skyrim Special Edition\"\n        ],\n        \"semantic_type\": \"\",\n        \"description\": \"\"\n      }\n    },\n    {\n      \"column\": \"Hours\",\n      \"properties\": {\n        \"dtype\": \"number\",\n        \"std\": 121.39089296444607,\n        \"min\": 0.1,\n        \"max\": 4659.0,\n        \"num_unique_values\": 634,\n        \"samples\": [\n          161.0,\n          236.0,\n          19.4\n        ],\n        \"semantic_type\": \"\",\n        \"description\": \"\"\n      }\n    },\n    {\n      \"column\": \"Behavior\",\n      \"properties\": {\n        \"dtype\": \"category\",\n        \"num_unique_values\": 2,\n        \"samples\": [\n          \"play\",\n          \"purchase\"\n        ],\n        \"semantic_type\": \"\",\n        \"description\": \"\"\n      }\n    },\n    {\n      \"column\": \"Categories\",\n      \"properties\": {\n        \"dtype\": \"category\",\n        \"num_unique_values\": 5,\n        \"samples\": [\n          \"Single-player, Multi-player\",\n          \"Utility\"\n        ],\n        \"semantic_type\": \"\",\n        \"description\": \"\"\n      }\n    },\n    {\n      \"column\": \"Genres\",\n      \"properties\": {\n        \"dtype\": \"category\",\n        \"num_unique_values\": 53,\n        \"samples\": [\n          \"['Adventure']\",\n          \"['Survival', 'Co-op']\"\n        ],\n        \"semantic_type\": \"\",\n        \"description\": \"\"\n      }\n    },\n    {\n      \"column\": \"is_recommended\",\n      \"properties\": {\n        \"dtype\": \"boolean\",\n        \"num_unique_values\": 2,\n        \"samples\": [\n          false,\n          true\n        ],\n        \"semantic_type\": \"\",\n        \"description\": \"\"\n      }\n    }\n  ]\n}",
              "type": "dataframe",
              "variable_name": "df"
            },
            "text/html": [
              "\n",
              "  <div id=\"df-b9717bf1-fd6f-4ea3-82ce-31b51a56becc\" class=\"colab-df-container\">\n",
              "    <div>\n",
              "<style scoped>\n",
              "    .dataframe tbody tr th:only-of-type {\n",
              "        vertical-align: middle;\n",
              "    }\n",
              "\n",
              "    .dataframe tbody tr th {\n",
              "        vertical-align: top;\n",
              "    }\n",
              "\n",
              "    .dataframe thead th {\n",
              "        text-align: right;\n",
              "    }\n",
              "</style>\n",
              "<table border=\"1\" class=\"dataframe\">\n",
              "  <thead>\n",
              "    <tr style=\"text-align: right;\">\n",
              "      <th></th>\n",
              "      <th>UserID</th>\n",
              "      <th>GameName</th>\n",
              "      <th>Hours</th>\n",
              "      <th>Behavior</th>\n",
              "      <th>Categories</th>\n",
              "      <th>Genres</th>\n",
              "      <th>is_recommended</th>\n",
              "    </tr>\n",
              "  </thead>\n",
              "  <tbody>\n",
              "    <tr>\n",
              "      <th>75721</th>\n",
              "      <td>9181665.0</td>\n",
              "      <td>FOR HONOR™</td>\n",
              "      <td>1.0</td>\n",
              "      <td>purchase</td>\n",
              "      <td>Multi-player</td>\n",
              "      <td>['Action']</td>\n",
              "      <td>True</td>\n",
              "    </tr>\n",
              "    <tr>\n",
              "      <th>80184</th>\n",
              "      <td>11531502.0</td>\n",
              "      <td>Grand Theft Auto V</td>\n",
              "      <td>1.0</td>\n",
              "      <td>purchase</td>\n",
              "      <td>Single-player, Multi-player</td>\n",
              "      <td>['Action', 'Adventure']</td>\n",
              "      <td>True</td>\n",
              "    </tr>\n",
              "    <tr>\n",
              "      <th>19864</th>\n",
              "      <td>1299092.0</td>\n",
              "      <td>No Man's Sky</td>\n",
              "      <td>249.0</td>\n",
              "      <td>play</td>\n",
              "      <td>Single-player, Multi-player</td>\n",
              "      <td>['Adventure', 'Simulation']</td>\n",
              "      <td>True</td>\n",
              "    </tr>\n",
              "    <tr>\n",
              "      <th>76699</th>\n",
              "      <td>13862042.0</td>\n",
              "      <td>Grand Theft Auto V</td>\n",
              "      <td>3.4</td>\n",
              "      <td>play</td>\n",
              "      <td>Not Classified</td>\n",
              "      <td>['Strategy']</td>\n",
              "      <td>False</td>\n",
              "    </tr>\n",
              "    <tr>\n",
              "      <th>92991</th>\n",
              "      <td>6282199.0</td>\n",
              "      <td>Grand Theft Auto V</td>\n",
              "      <td>1.0</td>\n",
              "      <td>purchase</td>\n",
              "      <td>Not Classified</td>\n",
              "      <td>['Action', 'Adventure']</td>\n",
              "      <td>False</td>\n",
              "    </tr>\n",
              "  </tbody>\n",
              "</table>\n",
              "</div>\n",
              "    <div class=\"colab-df-buttons\">\n",
              "\n",
              "  <div class=\"colab-df-container\">\n",
              "    <button class=\"colab-df-convert\" onclick=\"convertToInteractive('df-b9717bf1-fd6f-4ea3-82ce-31b51a56becc')\"\n",
              "            title=\"Convert this dataframe to an interactive table.\"\n",
              "            style=\"display:none;\">\n",
              "\n",
              "  <svg xmlns=\"http://www.w3.org/2000/svg\" height=\"24px\" viewBox=\"0 -960 960 960\">\n",
              "    <path d=\"M120-120v-720h720v720H120Zm60-500h600v-160H180v160Zm220 220h160v-160H400v160Zm0 220h160v-160H400v160ZM180-400h160v-160H180v160Zm440 0h160v-160H620v160ZM180-180h160v-160H180v160Zm440 0h160v-160H620v160Z\"/>\n",
              "  </svg>\n",
              "    </button>\n",
              "\n",
              "  <style>\n",
              "    .colab-df-container {\n",
              "      display:flex;\n",
              "      gap: 12px;\n",
              "    }\n",
              "\n",
              "    .colab-df-convert {\n",
              "      background-color: #E8F0FE;\n",
              "      border: none;\n",
              "      border-radius: 50%;\n",
              "      cursor: pointer;\n",
              "      display: none;\n",
              "      fill: #1967D2;\n",
              "      height: 32px;\n",
              "      padding: 0 0 0 0;\n",
              "      width: 32px;\n",
              "    }\n",
              "\n",
              "    .colab-df-convert:hover {\n",
              "      background-color: #E2EBFA;\n",
              "      box-shadow: 0px 1px 2px rgba(60, 64, 67, 0.3), 0px 1px 3px 1px rgba(60, 64, 67, 0.15);\n",
              "      fill: #174EA6;\n",
              "    }\n",
              "\n",
              "    .colab-df-buttons div {\n",
              "      margin-bottom: 4px;\n",
              "    }\n",
              "\n",
              "    [theme=dark] .colab-df-convert {\n",
              "      background-color: #3B4455;\n",
              "      fill: #D2E3FC;\n",
              "    }\n",
              "\n",
              "    [theme=dark] .colab-df-convert:hover {\n",
              "      background-color: #434B5C;\n",
              "      box-shadow: 0px 1px 3px 1px rgba(0, 0, 0, 0.15);\n",
              "      filter: drop-shadow(0px 1px 2px rgba(0, 0, 0, 0.3));\n",
              "      fill: #FFFFFF;\n",
              "    }\n",
              "  </style>\n",
              "\n",
              "    <script>\n",
              "      const buttonEl =\n",
              "        document.querySelector('#df-b9717bf1-fd6f-4ea3-82ce-31b51a56becc button.colab-df-convert');\n",
              "      buttonEl.style.display =\n",
              "        google.colab.kernel.accessAllowed ? 'block' : 'none';\n",
              "\n",
              "      async function convertToInteractive(key) {\n",
              "        const element = document.querySelector('#df-b9717bf1-fd6f-4ea3-82ce-31b51a56becc');\n",
              "        const dataTable =\n",
              "          await google.colab.kernel.invokeFunction('convertToInteractive',\n",
              "                                                    [key], {});\n",
              "        if (!dataTable) return;\n",
              "\n",
              "        const docLinkHtml = 'Like what you see? Visit the ' +\n",
              "          '<a target=\"_blank\" href=https://colab.research.google.com/notebooks/data_table.ipynb>data table notebook</a>'\n",
              "          + ' to learn more about interactive tables.';\n",
              "        element.innerHTML = '';\n",
              "        dataTable['output_type'] = 'display_data';\n",
              "        await google.colab.output.renderOutput(dataTable, element);\n",
              "        const docLink = document.createElement('div');\n",
              "        docLink.innerHTML = docLinkHtml;\n",
              "        element.appendChild(docLink);\n",
              "      }\n",
              "    </script>\n",
              "  </div>\n",
              "\n",
              "\n",
              "    <div id=\"df-0e8011ab-015d-437b-b519-f14a562dfc2f\">\n",
              "      <button class=\"colab-df-quickchart\" onclick=\"quickchart('df-0e8011ab-015d-437b-b519-f14a562dfc2f')\"\n",
              "                title=\"Suggest charts\"\n",
              "                style=\"display:none;\">\n",
              "\n",
              "<svg xmlns=\"http://www.w3.org/2000/svg\" height=\"24px\"viewBox=\"0 0 24 24\"\n",
              "     width=\"24px\">\n",
              "    <g>\n",
              "        <path d=\"M19 3H5c-1.1 0-2 .9-2 2v14c0 1.1.9 2 2 2h14c1.1 0 2-.9 2-2V5c0-1.1-.9-2-2-2zM9 17H7v-7h2v7zm4 0h-2V7h2v10zm4 0h-2v-4h2v4z\"/>\n",
              "    </g>\n",
              "</svg>\n",
              "      </button>\n",
              "\n",
              "<style>\n",
              "  .colab-df-quickchart {\n",
              "      --bg-color: #E8F0FE;\n",
              "      --fill-color: #1967D2;\n",
              "      --hover-bg-color: #E2EBFA;\n",
              "      --hover-fill-color: #174EA6;\n",
              "      --disabled-fill-color: #AAA;\n",
              "      --disabled-bg-color: #DDD;\n",
              "  }\n",
              "\n",
              "  [theme=dark] .colab-df-quickchart {\n",
              "      --bg-color: #3B4455;\n",
              "      --fill-color: #D2E3FC;\n",
              "      --hover-bg-color: #434B5C;\n",
              "      --hover-fill-color: #FFFFFF;\n",
              "      --disabled-bg-color: #3B4455;\n",
              "      --disabled-fill-color: #666;\n",
              "  }\n",
              "\n",
              "  .colab-df-quickchart {\n",
              "    background-color: var(--bg-color);\n",
              "    border: none;\n",
              "    border-radius: 50%;\n",
              "    cursor: pointer;\n",
              "    display: none;\n",
              "    fill: var(--fill-color);\n",
              "    height: 32px;\n",
              "    padding: 0;\n",
              "    width: 32px;\n",
              "  }\n",
              "\n",
              "  .colab-df-quickchart:hover {\n",
              "    background-color: var(--hover-bg-color);\n",
              "    box-shadow: 0 1px 2px rgba(60, 64, 67, 0.3), 0 1px 3px 1px rgba(60, 64, 67, 0.15);\n",
              "    fill: var(--button-hover-fill-color);\n",
              "  }\n",
              "\n",
              "  .colab-df-quickchart-complete:disabled,\n",
              "  .colab-df-quickchart-complete:disabled:hover {\n",
              "    background-color: var(--disabled-bg-color);\n",
              "    fill: var(--disabled-fill-color);\n",
              "    box-shadow: none;\n",
              "  }\n",
              "\n",
              "  .colab-df-spinner {\n",
              "    border: 2px solid var(--fill-color);\n",
              "    border-color: transparent;\n",
              "    border-bottom-color: var(--fill-color);\n",
              "    animation:\n",
              "      spin 1s steps(1) infinite;\n",
              "  }\n",
              "\n",
              "  @keyframes spin {\n",
              "    0% {\n",
              "      border-color: transparent;\n",
              "      border-bottom-color: var(--fill-color);\n",
              "      border-left-color: var(--fill-color);\n",
              "    }\n",
              "    20% {\n",
              "      border-color: transparent;\n",
              "      border-left-color: var(--fill-color);\n",
              "      border-top-color: var(--fill-color);\n",
              "    }\n",
              "    30% {\n",
              "      border-color: transparent;\n",
              "      border-left-color: var(--fill-color);\n",
              "      border-top-color: var(--fill-color);\n",
              "      border-right-color: var(--fill-color);\n",
              "    }\n",
              "    40% {\n",
              "      border-color: transparent;\n",
              "      border-right-color: var(--fill-color);\n",
              "      border-top-color: var(--fill-color);\n",
              "    }\n",
              "    60% {\n",
              "      border-color: transparent;\n",
              "      border-right-color: var(--fill-color);\n",
              "    }\n",
              "    80% {\n",
              "      border-color: transparent;\n",
              "      border-right-color: var(--fill-color);\n",
              "      border-bottom-color: var(--fill-color);\n",
              "    }\n",
              "    90% {\n",
              "      border-color: transparent;\n",
              "      border-bottom-color: var(--fill-color);\n",
              "    }\n",
              "  }\n",
              "</style>\n",
              "\n",
              "      <script>\n",
              "        async function quickchart(key) {\n",
              "          const quickchartButtonEl =\n",
              "            document.querySelector('#' + key + ' button');\n",
              "          quickchartButtonEl.disabled = true;  // To prevent multiple clicks.\n",
              "          quickchartButtonEl.classList.add('colab-df-spinner');\n",
              "          try {\n",
              "            const charts = await google.colab.kernel.invokeFunction(\n",
              "                'suggestCharts', [key], {});\n",
              "          } catch (error) {\n",
              "            console.error('Error during call to suggestCharts:', error);\n",
              "          }\n",
              "          quickchartButtonEl.classList.remove('colab-df-spinner');\n",
              "          quickchartButtonEl.classList.add('colab-df-quickchart-complete');\n",
              "        }\n",
              "        (() => {\n",
              "          let quickchartButtonEl =\n",
              "            document.querySelector('#df-0e8011ab-015d-437b-b519-f14a562dfc2f button');\n",
              "          quickchartButtonEl.style.display =\n",
              "            google.colab.kernel.accessAllowed ? 'block' : 'none';\n",
              "        })();\n",
              "      </script>\n",
              "    </div>\n",
              "\n",
              "    </div>\n",
              "  </div>\n"
            ],
            "text/plain": [
              "           UserID            GameName  Hours  Behavior  \\\n",
              "75721   9181665.0          FOR HONOR™    1.0  purchase   \n",
              "80184  11531502.0  Grand Theft Auto V    1.0  purchase   \n",
              "19864   1299092.0        No Man's Sky  249.0      play   \n",
              "76699  13862042.0  Grand Theft Auto V    3.4      play   \n",
              "92991   6282199.0  Grand Theft Auto V    1.0  purchase   \n",
              "\n",
              "                        Categories                       Genres  \\\n",
              "75721                 Multi-player                   ['Action']   \n",
              "80184  Single-player, Multi-player      ['Action', 'Adventure']   \n",
              "19864  Single-player, Multi-player  ['Adventure', 'Simulation']   \n",
              "76699               Not Classified                 ['Strategy']   \n",
              "92991               Not Classified      ['Action', 'Adventure']   \n",
              "\n",
              "       is_recommended  \n",
              "75721            True  \n",
              "80184            True  \n",
              "19864            True  \n",
              "76699           False  \n",
              "92991           False  "
            ]
          },
          "execution_count": 13,
          "metadata": {},
          "output_type": "execute_result"
        }
      ],
      "source": [
        "print('🧾INFO:')\n",
        "df.info()\n",
        "print('\\n🔍HEAD:')\n",
        "df.head()"
      ]
    },
    {
      "cell_type": "code",
      "execution_count": null,
      "metadata": {
        "colab": {
          "base_uri": "https://localhost:8080/"
        },
        "id": "N--0J8Lg4FlE",
        "outputId": "91f5f15b-61cc-430f-a1a4-11c35eb7f1d6"
      },
      "outputs": [
        {
          "name": "stdout",
          "output_type": "stream",
          "text": [
            "🧾New INFO:\n",
            "<class 'pandas.core.frame.DataFrame'>\n",
            "Index: 19946 entries, 75721 to 42410\n",
            "Data columns (total 7 columns):\n",
            " #   Column          Non-Null Count  Dtype   \n",
            "---  ------          --------------  -----   \n",
            " 0   UserID          19946 non-null  Int64   \n",
            " 1   GameName        19946 non-null  string  \n",
            " 2   Hours           19946 non-null  float64 \n",
            " 3   Behavior        19946 non-null  string  \n",
            " 4   Categories      19946 non-null  category\n",
            " 5   Genres          19946 non-null  category\n",
            " 6   is_recommended  19946 non-null  bool    \n",
            "dtypes: Int64(1), bool(1), category(2), float64(1), string(2)\n",
            "memory usage: 859.7 KB\n"
          ]
        }
      ],
      "source": [
        "# checking for unwanted values (any other behaviors get dropped)\n",
        "df = df[df[\"Behavior\"].isin([\"play\", \"purchase\"])].copy()\n",
        "# object to string\n",
        "df[\"GameName\"] = df[\"GameName\"].astype(\"string\")\n",
        "df[\"Behavior\"] = df[\"Behavior\"].astype(\"string\")\n",
        "# Convert UserID to a nullable integer type to handle potential nulls\n",
        "df['UserID'] = df['UserID'].astype('Int64')\n",
        "# Convert Categories and Genres to the 'category' data type for memory efficiency\n",
        "df['Categories'] = df['Categories'].astype('category')\n",
        "df['Genres'] = df['Genres'].astype('category')\n",
        "# Check the DataFrame info after the changes\n",
        "print('🧾New INFO:')\n",
        "df.info()\n"
      ]
    },
    {
      "cell_type": "markdown",
      "metadata": {
        "id": "yuoGGkv3QQt4"
      },
      "source": [
        "## **Feature Engineering 🛠️**"
      ]
    },
    {
      "cell_type": "code",
      "execution_count": null,
      "metadata": {
        "colab": {
          "base_uri": "https://localhost:8080/"
        },
        "id": "Bv1RGEEi67zC",
        "outputId": "297f1bb8-d020-416d-a52e-d5b13968975d"
      },
      "outputs": [
        {
          "name": "stdout",
          "output_type": "stream",
          "text": [
            "Calculating and Aggregating to new useful features 🛠️:\n",
            "\n",
            "   UserID  total_play_hours  purchase_count  total_interactions  avg_playtime  \\\n",
            "0     369               3.3             0.0                   1           3.3   \n",
            "1    4514               3.2             0.0                   1           3.2   \n",
            "2    4884               4.7             0.0                   1           4.7   \n",
            "3    6812               7.0             0.0                   1           7.0   \n",
            "4    8338               4.0             0.0                   1           4.0   \n",
            "\n",
            "   unique_genres  unique_categories  purchase_ratio  \n",
            "0              1                  1             0.0  \n",
            "1              1                  1             0.0  \n",
            "2              1                  1             0.0  \n",
            "3              1                  1             0.0  \n",
            "4              1                  1             0.0  \n"
          ]
        }
      ],
      "source": [
        "# total playtime per user\n",
        "playtime = (df[df[\"Behavior\"]==\"play\"].groupby(\"UserID\", observed=True)[\"Hours\"].sum().rename(\"total_play_hours\"))\n",
        "\n",
        "# total purchases per user\n",
        "purchases = (df[df[\"Behavior\"]==\"purchase\"].groupby(\"UserID\", observed=True).size().rename(\"purchase_count\"))\n",
        "\n",
        "# total interactions (play+purchase) per user\n",
        "interactions = (df.groupby(\"UserID\", observed=True).size().rename(\"total_interactions\"))\n",
        "\n",
        "# average playtime per game for each user\n",
        "avg_play = (df[df[\"Behavior\"]==\"play\"].groupby(\"UserID\", observed=True)[\"Hours\"].mean().rename(\"avg_playtime\"))\n",
        "\n",
        "# Calculate the number of unique genres and categories for each user\n",
        "unique_genres = df.groupby(\"UserID\", observed=True)[\"Genres\"].nunique().rename(\"unique_genres\")\n",
        "unique_categories = df.groupby(\"UserID\", observed=True)[\"Categories\"].nunique().rename(\"unique_categories\")\n",
        "\n",
        "# aggregate all stats\n",
        "stats = (pd.concat([playtime, purchases, interactions, avg_play, unique_genres, unique_categories], axis=1)\n",
        "         .fillna({\"total_play_hours\":0, \"purchase_count\":0, \"avg_playtime\":0, \"unique_genres\":0, \"unique_categories\":0})\n",
        "         .reset_index())\n",
        "\n",
        "# purchase ratio = purchases/total interactions\n",
        "stats[\"purchase_ratio\"] = (stats[\"purchase_count\"] / stats[\"total_interactions\"].replace(0, np.nan)).fillna(0)\n",
        "\n",
        "print('Calculating and Aggregating to new useful features 🛠️:\\n')\n",
        "print(stats.head())"
      ]
    },
    {
      "cell_type": "markdown",
      "metadata": {
        "id": "XTyxwDcaQVlj"
      },
      "source": [
        "## **Encoding 🔢**"
      ]
    },
    {
      "cell_type": "code",
      "execution_count": null,
      "metadata": {
        "colab": {
          "base_uri": "https://localhost:8080/"
        },
        "id": "qVvwvAHiA7cP",
        "outputId": "e924fe17-ec22-4381-ea60-8c1f47f0087d"
      },
      "outputs": [
        {
          "name": "stdout",
          "output_type": "stream",
          "text": [
            "🔢One-Hot encoded matrix:\n",
            "* 1 indicates the user interacted with the game (wether played or purchased)\n",
            "GameName  ARK: Survival Evolved  Age of Empires IV: Anniversary Edition  \\\n",
            "UserID                                                                    \n",
            "369                           0                                       0   \n",
            "2042                          0                                       0   \n",
            "4514                          0                                       0   \n",
            "4884                          0                                       0   \n",
            "5299                          0                                       0   \n",
            "\n",
            "GameName  American Truck Simulator  Apex Legends™  Arma 3  Assetto Corsa  \\\n",
            "UserID                                                                     \n",
            "369                              0              0       1              0   \n",
            "2042                             0              0       0              0   \n",
            "4514                             0              0       0              0   \n",
            "4884                             0              0       0              0   \n",
            "5299                             0              0       0              0   \n",
            "\n",
            "GameName  Baldur's Gate 3  Barotrauma  BeamNG.drive  Beat Saber  ...  \\\n",
            "UserID                                                           ...   \n",
            "369                     0           0             0           0  ...   \n",
            "2042                    1           0             0           0  ...   \n",
            "4514                    0           0             0           0  ...   \n",
            "4884                    0           0             0           0  ...   \n",
            "5299                    0           0             0           0  ...   \n",
            "\n",
            "GameName  Tom Clancy's Rainbow Six® Siege  Total War: WARHAMMER III  VRChat  \\\n",
            "UserID                                                                        \n",
            "369                                     0                         0       0   \n",
            "2042                                    0                         0       0   \n",
            "4514                                    0                         0       0   \n",
            "4884                                    0                         0       0   \n",
            "5299                                    0                         0       0   \n",
            "\n",
            "GameName  Vampire Survivors  Wallpaper Engine  War Thunder  Warframe  \\\n",
            "UserID                                                                 \n",
            "369                       0                 0            0         0   \n",
            "2042                      0                 0            0         0   \n",
            "4514                      0                 0            0         0   \n",
            "4884                      0                 0            0         0   \n",
            "5299                      0                 0            0         0   \n",
            "\n",
            "GameName  Warhammer 40000: Darktide  Yu-Gi-Oh! Master Duel  \\\n",
            "UserID                                                       \n",
            "369                               0                      0   \n",
            "2042                              0                      0   \n",
            "4514                              0                      0   \n",
            "4884                              0                      0   \n",
            "5299                              0                      0   \n",
            "\n",
            "GameName  theHunter: Call of the Wild™  \n",
            "UserID                                  \n",
            "369                                  0  \n",
            "2042                                 0  \n",
            "4514                                 0  \n",
            "4884                                 0  \n",
            "5299                                 0  \n",
            "\n",
            "[5 rows x 100 columns]\n",
            "\n",
            "🔗Merging the one-hot encoded matrix with the stats:\n",
            "   UserID  total_play_hours  purchase_count  total_interactions  avg_playtime  \\\n",
            "0     369               3.3             0.0                   1           3.3   \n",
            "1    4514               3.2             0.0                   1           3.2   \n",
            "2    4884               4.7             0.0                   1           4.7   \n",
            "3    6812               7.0             0.0                   1           7.0   \n",
            "4    8338               4.0             0.0                   1           4.0   \n",
            "\n",
            "   unique_genres  unique_categories  purchase_ratio  ARK: Survival Evolved  \\\n",
            "0              1                  1             0.0                    0.0   \n",
            "1              1                  1             0.0                    0.0   \n",
            "2              1                  1             0.0                    0.0   \n",
            "3              1                  1             0.0                    0.0   \n",
            "4              1                  1             0.0                    0.0   \n",
            "\n",
            "   Age of Empires IV: Anniversary Edition  ...  \\\n",
            "0                                     0.0  ...   \n",
            "1                                     0.0  ...   \n",
            "2                                     0.0  ...   \n",
            "3                                     0.0  ...   \n",
            "4                                     0.0  ...   \n",
            "\n",
            "   Tom Clancy's Rainbow Six® Siege  Total War: WARHAMMER III  VRChat  \\\n",
            "0                              0.0                       0.0     0.0   \n",
            "1                              0.0                       0.0     0.0   \n",
            "2                              0.0                       0.0     0.0   \n",
            "3                              0.0                       0.0     0.0   \n",
            "4                              0.0                       0.0     0.0   \n",
            "\n",
            "   Vampire Survivors  Wallpaper Engine  War Thunder  Warframe  \\\n",
            "0                0.0               0.0          0.0       0.0   \n",
            "1                0.0               0.0          0.0       0.0   \n",
            "2                0.0               0.0          0.0       0.0   \n",
            "3                0.0               0.0          0.0       0.0   \n",
            "4                0.0               0.0          0.0       0.0   \n",
            "\n",
            "   Warhammer 40000: Darktide  Yu-Gi-Oh! Master Duel  \\\n",
            "0                        0.0                    0.0   \n",
            "1                        0.0                    0.0   \n",
            "2                        0.0                    0.0   \n",
            "3                        0.0                    0.0   \n",
            "4                        0.0                    0.0   \n",
            "\n",
            "   theHunter: Call of the Wild™  \n",
            "0                           0.0  \n",
            "1                           0.0  \n",
            "2                           0.0  \n",
            "3                           0.0  \n",
            "4                           0.0  \n",
            "\n",
            "[5 rows x 108 columns]\n"
          ]
        }
      ],
      "source": [
        "# filtering top games only\n",
        "top_games = (df[\"GameName\"].value_counts().nlargest(100)).index\n",
        "df_top = df[df[\"GameName\"].isin(top_games)].copy()\n",
        "\n",
        "# we only care if the user interacted (regardless played or purchased)\n",
        "df_top[\"interacted\"] = 1\n",
        "\n",
        "# One-hot encoding (user × game matrix)\n",
        "bin_encoder = (df_top.drop_duplicates([\"UserID\",\"GameName\"]).pivot(index=\"UserID\", columns=\"GameName\", values=\"interacted\").fillna(0).astype(\"uint8\"))\n",
        "print('🔢One-Hot encoded matrix:')\n",
        "print('* 1 indicates the user interacted with the game (wether played or purchased)')\n",
        "print(bin_encoder.head())\n",
        "\n",
        "# add the top games binary columns\n",
        "user_features = stats.merge(bin_encoder, on=\"UserID\", how=\"left\").fillna(0)\n",
        "print('\\n🔗Merging the one-hot encoded matrix with the stats:')\n",
        "print(user_features.head())"
      ]
    },
    {
      "cell_type": "code",
      "execution_count": null,
      "metadata": {
        "colab": {
          "base_uri": "https://localhost:8080/"
        },
        "id": "PoLRXRdcA8tI",
        "outputId": "092e9956-a089-456a-da36-14f10efa21e1"
      },
      "outputs": [
        {
          "name": "stdout",
          "output_type": "stream",
          "text": [
            "#️⃣The code to each behavior:\n",
            "   Behavior  Code\n",
            "0      play     0\n",
            "1  purchase     1\n",
            "\n",
            "🧮The number of elements in each behavior:\n",
            "Behavior\n",
            "purchase    11896\n",
            "play         6630\n",
            "Name: count, dtype: Int64\n",
            "\n"
          ]
        },
        {
          "data": {
            "image/png": "[encoded data removed]",
            "text/plain": [
              "<Figure size 500x300 with 1 Axes>"
            ]
          },
          "metadata": {},
          "output_type": "display_data"
        },
        {
          "name": "stdout",
          "output_type": "stream",
          "text": [
            "\n",
            "#️⃣The code to each game:\n",
            "                                  GameName  Code\n",
            "0                    ARK: Survival Evolved    34\n",
            "1   Age of Empires IV: Anniversary Edition    41\n",
            "2                 American Truck Simulator    57\n",
            "3                            Apex Legends™    89\n",
            "4                                   Arma 3    61\n",
            "..                                     ...   ...\n",
            "95                             War Thunder    56\n",
            "96                                Warframe    16\n",
            "97               Warhammer 40000: Darktide    17\n",
            "98                   Yu-Gi-Oh! Master Duel    55\n",
            "99            theHunter: Call of the Wild™     7\n",
            "\n",
            "[100 rows x 2 columns]\n"
          ]
        }
      ],
      "source": [
        "# encoding behavior to 1/0\n",
        "behavior_encoder = LabelEncoder()\n",
        "encoded_values1 = behavior_encoder.fit_transform(df_top[\"Behavior\"])\n",
        "encoded_behavior_df = pd.DataFrame({\n",
        "    \"Behavior\": behavior_encoder.classes_,\n",
        "    \"Code\": range(len(behavior_encoder.classes_))\n",
        "})\n",
        "print('#️⃣The code to each behavior:')\n",
        "print(encoded_behavior_df)\n",
        "print('\\n🧮The number of elements in each behavior:')\n",
        "print(df_top[\"Behavior\"].value_counts())\n",
        "print()\n",
        "\n",
        "plt.figure(figsize=(5, 3))\n",
        "pd.Series(encoded_values1).value_counts().sort_index().plot(kind='bar', title=\"Behavior Distribution\", color='lightblue')\n",
        "plt.xlabel(\"Class (0 = first category, 1 = second category)\")\n",
        "plt.ylabel(\"Count\")\n",
        "plt.show()\n",
        "\n",
        "# encoding game names to numbers\n",
        "game_encoder = LabelEncoder()\n",
        "encoded_values2 = game_encoder.fit_transform(df_top[\"GameName\"].unique())\n",
        "encoded_games_df = pd.DataFrame({\n",
        "    \"GameName\": game_encoder.classes_,\n",
        "    \"Code\": encoded_values2\n",
        "})\n",
        "print('\\n#️⃣The code to each game:')\n",
        "print(encoded_games_df)"
      ]
    },
    {
      "cell_type": "markdown",
      "metadata": {
        "id": "7G3lIJePQlr9"
      },
      "source": [
        "## **Normalization 📏**"
      ]
    },
    {
      "cell_type": "code",
      "execution_count": null,
      "metadata": {
        "colab": {
          "base_uri": "https://localhost:8080/"
        },
        "id": "78jiAHfoLyr0",
        "outputId": "a64b4066-8302-4e93-91cc-99ea6fc28a90"
      },
      "outputs": [
        {
          "name": "stdout",
          "output_type": "stream",
          "text": [
            "Numeric Measures normalized ✅\n"
          ]
        },
        {
          "data": {
            "application/vnd.google.colaboratory.intrinsic+json": {
              "summary": "{\n  \"name\": \"pd\",\n  \"rows\": 2,\n  \"fields\": [\n    {\n      \"column\": \"total_play_hours\",\n      \"properties\": {\n        \"dtype\": \"number\",\n        \"std\": 0.7071251971039689,\n        \"min\": 1.7764493628045632e-17,\n        \"max\": 1.000026044040181,\n        \"num_unique_values\": 2,\n        \"samples\": [\n          1.000026044040181,\n          1.7764493628045632e-17\n        ],\n        \"semantic_type\": \"\",\n        \"description\": \"\"\n      }\n    },\n    {\n      \"column\": \"purchase_count\",\n      \"properties\": {\n        \"dtype\": \"number\",\n        \"std\": 0.7071251971041695,\n        \"min\": -1.184299575203042e-16,\n        \"max\": 1.0000260440404645,\n        \"num_unique_values\": 2,\n        \"samples\": [\n          1.0000260440404645,\n          -1.184299575203042e-16\n        ],\n        \"semantic_type\": \"\",\n        \"description\": \"\"\n      }\n    },\n    {\n      \"column\": \"purchase_ratio\",\n      \"properties\": {\n        \"dtype\": \"number\",\n        \"std\": 0.7071251971041334,\n        \"min\": -4.7371983008121684e-17,\n        \"max\": 1.0000260440404134,\n        \"num_unique_values\": 2,\n        \"samples\": [\n          1.0000260440404134,\n          -4.7371983008121684e-17\n        ],\n        \"semantic_type\": \"\",\n        \"description\": \"\"\n      }\n    },\n    {\n      \"column\": \"avg_playtime\",\n      \"properties\": {\n        \"dtype\": \"number\",\n        \"std\": 0.7071251971042477,\n        \"min\": -2.6646740442068448e-17,\n        \"max\": 1.000026044040575,\n        \"num_unique_values\": 2,\n        \"samples\": [\n          1.000026044040575,\n          -2.6646740442068448e-17\n        ],\n        \"semantic_type\": \"\",\n        \"description\": \"\"\n      }\n    }\n  ]\n}",
              "type": "dataframe"
            },
            "text/html": [
              "\n",
              "  <div id=\"df-0b50e145-6bdf-457c-b2d3-f0635ad69191\" class=\"colab-df-container\">\n",
              "    <div>\n",
              "<style scoped>\n",
              "    .dataframe tbody tr th:only-of-type {\n",
              "        vertical-align: middle;\n",
              "    }\n",
              "\n",
              "    .dataframe tbody tr th {\n",
              "        vertical-align: top;\n",
              "    }\n",
              "\n",
              "    .dataframe thead th {\n",
              "        text-align: right;\n",
              "    }\n",
              "</style>\n",
              "<table border=\"1\" class=\"dataframe\">\n",
              "  <thead>\n",
              "    <tr style=\"text-align: right;\">\n",
              "      <th></th>\n",
              "      <th>total_play_hours</th>\n",
              "      <th>purchase_count</th>\n",
              "      <th>purchase_ratio</th>\n",
              "      <th>avg_playtime</th>\n",
              "    </tr>\n",
              "  </thead>\n",
              "  <tbody>\n",
              "    <tr>\n",
              "      <th>mean</th>\n",
              "      <td>1.776449e-17</td>\n",
              "      <td>-1.184300e-16</td>\n",
              "      <td>-4.737198e-17</td>\n",
              "      <td>-2.664674e-17</td>\n",
              "    </tr>\n",
              "    <tr>\n",
              "      <th>std</th>\n",
              "      <td>1.000026e+00</td>\n",
              "      <td>1.000026e+00</td>\n",
              "      <td>1.000026e+00</td>\n",
              "      <td>1.000026e+00</td>\n",
              "    </tr>\n",
              "  </tbody>\n",
              "</table>\n",
              "</div>\n",
              "    <div class=\"colab-df-buttons\">\n",
              "\n",
              "  <div class=\"colab-df-container\">\n",
              "    <button class=\"colab-df-convert\" onclick=\"convertToInteractive('df-0b50e145-6bdf-457c-b2d3-f0635ad69191')\"\n",
              "            title=\"Convert this dataframe to an interactive table.\"\n",
              "            style=\"display:none;\">\n",
              "\n",
              "  <svg xmlns=\"http://www.w3.org/2000/svg\" height=\"24px\" viewBox=\"0 -960 960 960\">\n",
              "    <path d=\"M120-120v-720h720v720H120Zm60-500h600v-160H180v160Zm220 220h160v-160H400v160Zm0 220h160v-160H400v160ZM180-400h160v-160H180v160Zm440 0h160v-160H620v160ZM180-180h160v-160H180v160Zm440 0h160v-160H620v160Z\"/>\n",
              "  </svg>\n",
              "    </button>\n",
              "\n",
              "  <style>\n",
              "    .colab-df-container {\n",
              "      display:flex;\n",
              "      gap: 12px;\n",
              "    }\n",
              "\n",
              "    .colab-df-convert {\n",
              "      background-color: #E8F0FE;\n",
              "      border: none;\n",
              "      border-radius: 50%;\n",
              "      cursor: pointer;\n",
              "      display: none;\n",
              "      fill: #1967D2;\n",
              "      height: 32px;\n",
              "      padding: 0 0 0 0;\n",
              "      width: 32px;\n",
              "    }\n",
              "\n",
              "    .colab-df-convert:hover {\n",
              "      background-color: #E2EBFA;\n",
              "      box-shadow: 0px 1px 2px rgba(60, 64, 67, 0.3), 0px 1px 3px 1px rgba(60, 64, 67, 0.15);\n",
              "      fill: #174EA6;\n",
              "    }\n",
              "\n",
              "    .colab-df-buttons div {\n",
              "      margin-bottom: 4px;\n",
              "    }\n",
              "\n",
              "    [theme=dark] .colab-df-convert {\n",
              "      background-color: #3B4455;\n",
              "      fill: #D2E3FC;\n",
              "    }\n",
              "\n",
              "    [theme=dark] .colab-df-convert:hover {\n",
              "      background-color: #434B5C;\n",
              "      box-shadow: 0px 1px 3px 1px rgba(0, 0, 0, 0.15);\n",
              "      filter: drop-shadow(0px 1px 2px rgba(0, 0, 0, 0.3));\n",
              "      fill: #FFFFFF;\n",
              "    }\n",
              "  </style>\n",
              "\n",
              "    <script>\n",
              "      const buttonEl =\n",
              "        document.querySelector('#df-0b50e145-6bdf-457c-b2d3-f0635ad69191 button.colab-df-convert');\n",
              "      buttonEl.style.display =\n",
              "        google.colab.kernel.accessAllowed ? 'block' : 'none';\n",
              "\n",
              "      async function convertToInteractive(key) {\n",
              "        const element = document.querySelector('#df-0b50e145-6bdf-457c-b2d3-f0635ad69191');\n",
              "        const dataTable =\n",
              "          await google.colab.kernel.invokeFunction('convertToInteractive',\n",
              "                                                    [key], {});\n",
              "        if (!dataTable) return;\n",
              "\n",
              "        const docLinkHtml = 'Like what you see? Visit the ' +\n",
              "          '<a target=\"_blank\" href=https://colab.research.google.com/notebooks/data_table.ipynb>data table notebook</a>'\n",
              "          + ' to learn more about interactive tables.';\n",
              "        element.innerHTML = '';\n",
              "        dataTable['output_type'] = 'display_data';\n",
              "        await google.colab.output.renderOutput(dataTable, element);\n",
              "        const docLink = document.createElement('div');\n",
              "        docLink.innerHTML = docLinkHtml;\n",
              "        element.appendChild(docLink);\n",
              "      }\n",
              "    </script>\n",
              "  </div>\n",
              "\n",
              "\n",
              "    <div id=\"df-8990e33d-c16a-4fa7-b8a7-1d0944c4d9bb\">\n",
              "      <button class=\"colab-df-quickchart\" onclick=\"quickchart('df-8990e33d-c16a-4fa7-b8a7-1d0944c4d9bb')\"\n",
              "                title=\"Suggest charts\"\n",
              "                style=\"display:none;\">\n",
              "\n",
              "<svg xmlns=\"http://www.w3.org/2000/svg\" height=\"24px\"viewBox=\"0 0 24 24\"\n",
              "     width=\"24px\">\n",
              "    <g>\n",
              "        <path d=\"M19 3H5c-1.1 0-2 .9-2 2v14c0 1.1.9 2 2 2h14c1.1 0 2-.9 2-2V5c0-1.1-.9-2-2-2zM9 17H7v-7h2v7zm4 0h-2V7h2v10zm4 0h-2v-4h2v4z\"/>\n",
              "    </g>\n",
              "</svg>\n",
              "      </button>\n",
              "\n",
              "<style>\n",
              "  .colab-df-quickchart {\n",
              "      --bg-color: #E8F0FE;\n",
              "      --fill-color: #1967D2;\n",
              "      --hover-bg-color: #E2EBFA;\n",
              "      --hover-fill-color: #174EA6;\n",
              "      --disabled-fill-color: #AAA;\n",
              "      --disabled-bg-color: #DDD;\n",
              "  }\n",
              "\n",
              "  [theme=dark] .colab-df-quickchart {\n",
              "      --bg-color: #3B4455;\n",
              "      --fill-color: #D2E3FC;\n",
              "      --hover-bg-color: #434B5C;\n",
              "      --hover-fill-color: #FFFFFF;\n",
              "      --disabled-bg-color: #3B4455;\n",
              "      --disabled-fill-color: #666;\n",
              "  }\n",
              "\n",
              "  .colab-df-quickchart {\n",
              "    background-color: var(--bg-color);\n",
              "    border: none;\n",
              "    border-radius: 50%;\n",
              "    cursor: pointer;\n",
              "    display: none;\n",
              "    fill: var(--fill-color);\n",
              "    height: 32px;\n",
              "    padding: 0;\n",
              "    width: 32px;\n",
              "  }\n",
              "\n",
              "  .colab-df-quickchart:hover {\n",
              "    background-color: var(--hover-bg-color);\n",
              "    box-shadow: 0 1px 2px rgba(60, 64, 67, 0.3), 0 1px 3px 1px rgba(60, 64, 67, 0.15);\n",
              "    fill: var(--button-hover-fill-color);\n",
              "  }\n",
              "\n",
              "  .colab-df-quickchart-complete:disabled,\n",
              "  .colab-df-quickchart-complete:disabled:hover {\n",
              "    background-color: var(--disabled-bg-color);\n",
              "    fill: var(--disabled-fill-color);\n",
              "    box-shadow: none;\n",
              "  }\n",
              "\n",
              "  .colab-df-spinner {\n",
              "    border: 2px solid var(--fill-color);\n",
              "    border-color: transparent;\n",
              "    border-bottom-color: var(--fill-color);\n",
              "    animation:\n",
              "      spin 1s steps(1) infinite;\n",
              "  }\n",
              "\n",
              "  @keyframes spin {\n",
              "    0% {\n",
              "      border-color: transparent;\n",
              "      border-bottom-color: var(--fill-color);\n",
              "      border-left-color: var(--fill-color);\n",
              "    }\n",
              "    20% {\n",
              "      border-color: transparent;\n",
              "      border-left-color: var(--fill-color);\n",
              "      border-top-color: var(--fill-color);\n",
              "    }\n",
              "    30% {\n",
              "      border-color: transparent;\n",
              "      border-left-color: var(--fill-color);\n",
              "      border-top-color: var(--fill-color);\n",
              "      border-right-color: var(--fill-color);\n",
              "    }\n",
              "    40% {\n",
              "      border-color: transparent;\n",
              "      border-right-color: var(--fill-color);\n",
              "      border-top-color: var(--fill-color);\n",
              "    }\n",
              "    60% {\n",
              "      border-color: transparent;\n",
              "      border-right-color: var(--fill-color);\n",
              "    }\n",
              "    80% {\n",
              "      border-color: transparent;\n",
              "      border-right-color: var(--fill-color);\n",
              "      border-bottom-color: var(--fill-color);\n",
              "    }\n",
              "    90% {\n",
              "      border-color: transparent;\n",
              "      border-bottom-color: var(--fill-color);\n",
              "    }\n",
              "  }\n",
              "</style>\n",
              "\n",
              "      <script>\n",
              "        async function quickchart(key) {\n",
              "          const quickchartButtonEl =\n",
              "            document.querySelector('#' + key + ' button');\n",
              "          quickchartButtonEl.disabled = true;  // To prevent multiple clicks.\n",
              "          quickchartButtonEl.classList.add('colab-df-spinner');\n",
              "          try {\n",
              "            const charts = await google.colab.kernel.invokeFunction(\n",
              "                'suggestCharts', [key], {});\n",
              "          } catch (error) {\n",
              "            console.error('Error during call to suggestCharts:', error);\n",
              "          }\n",
              "          quickchartButtonEl.classList.remove('colab-df-spinner');\n",
              "          quickchartButtonEl.classList.add('colab-df-quickchart-complete');\n",
              "        }\n",
              "        (() => {\n",
              "          let quickchartButtonEl =\n",
              "            document.querySelector('#df-8990e33d-c16a-4fa7-b8a7-1d0944c4d9bb button');\n",
              "          quickchartButtonEl.style.display =\n",
              "            google.colab.kernel.accessAllowed ? 'block' : 'none';\n",
              "        })();\n",
              "      </script>\n",
              "    </div>\n",
              "\n",
              "    </div>\n",
              "  </div>\n"
            ],
            "text/plain": [
              "      total_play_hours  purchase_count  purchase_ratio  avg_playtime\n",
              "mean      1.776449e-17   -1.184300e-16   -4.737198e-17 -2.664674e-17\n",
              "std       1.000026e+00    1.000026e+00    1.000026e+00  1.000026e+00"
            ]
          },
          "execution_count": 18,
          "metadata": {},
          "output_type": "execute_result"
        }
      ],
      "source": [
        "# normalization\n",
        "dense_cols = [\"total_play_hours\",\"purchase_count\",\"purchase_ratio\",\"avg_playtime\"]\n",
        "X_dense = user_features[dense_cols].copy()\n",
        "scaler = StandardScaler()\n",
        "X_scaled = scaler.fit_transform(X_dense)\n",
        "print('Numeric Measures normalized ✅')\n",
        "pd.DataFrame(X_scaled, columns=dense_cols).describe().loc[['mean','std']]"
      ]
    },
    {
      "cell_type": "markdown",
      "metadata": {
        "id": "AfqRi8bXQdT0"
      },
      "source": [
        "## **Visualization 📊**"
      ]
    },
    {
      "cell_type": "code",
      "execution_count": null,
      "metadata": {
        "colab": {
          "base_uri": "https://localhost:8080/"
        },
        "id": "28VhFqyZN-Vg",
        "outputId": "0b1444ad-b9e7-4b3f-ed9b-e5df3eaf0f41"
      },
      "outputs": [
        {
          "data": {
            "image/png": "[encoded data removed]",
            "text/plain": [
              "<Figure size 1200x600 with 1 Axes>"
            ]
          },
          "metadata": {},
          "output_type": "display_data"
        }
      ],
      "source": [
        "# histogram showing the avg hours spended on each of the 100 top games\n",
        "\n",
        "avg_playtime_per_game = (\n",
        "    df_top[df_top[\"Behavior\"] == \"play\"]\n",
        "    .groupby(\"GameName\", observed=True)[\"Hours\"]\n",
        "    .mean()\n",
        "    .sort_values(ascending=False)\n",
        ")\n",
        "\n",
        "top20_avg = avg_playtime_per_game.head(20)\n",
        "\n",
        "plt.figure(figsize=(12,6))\n",
        "top20_avg.plot(kind=\"bar\", color=\"lightseagreen\", edgecolor=\"black\")\n",
        "plt.title(\"Top 20 Games by Average Playtime\")\n",
        "plt.ylabel(\"Average Hours\")\n",
        "plt.xlabel(\"GameName\")\n",
        "plt.xticks(rotation=45, ha='right')\n",
        "plt.tight_layout()\n",
        "plt.show()\n"
      ]
    },
    {
      "cell_type": "markdown",
      "metadata": {
        "id": "8UaWdZnEO98G"
      },
      "source": [
        "# **Unsupervised Clustering ( K-Means )**"
      ]
    },
    {
      "cell_type": "markdown",
      "metadata": {
        "id": "3E76Op9QQr_E"
      },
      "source": [
        "## **Finding Number of Clusters 🧩**"
      ]
    },
    {
      "cell_type": "code",
      "execution_count": null,
      "metadata": {
        "colab": {
          "base_uri": "https://localhost:8080/",
          "height": 666
        },
        "id": "RoCZnmEN8dps",
        "outputId": "f57ca623-e752-47c3-ac8a-3cecb611e5a3"
      },
      "outputs": [
        {
          "data": {
            "image/png": "[encoded data removed]",
            "text/plain": [
              "<Figure size 500x300 with 1 Axes>"
            ]
          },
          "metadata": {},
          "output_type": "display_data"
        },
        {
          "name": "stdout",
          "output_type": "stream",
          "text": [
            "\n"
          ]
        },
        {
          "data": {
            "image/png": "[encoded data removed]",
            "text/plain": [
              "<Figure size 500x300 with 1 Axes>"
            ]
          },
          "metadata": {},
          "output_type": "display_data"
        }
      ],
      "source": [
        "# num of clusters (elbow + silhouette score)\n",
        "inertias = []\n",
        "sil_scores = []\n",
        "\n",
        "for k in range(2, 11):\n",
        "    km = KMeans(n_clusters=k, n_init=\"auto\", random_state=42)\n",
        "    km.fit(X_scaled)\n",
        "    inertias.append(km.inertia_)\n",
        "    sil_scores.append(silhouette_score(X_scaled, km.labels_))\n",
        "\n",
        "plt.figure(figsize=(5, 3))\n",
        "plt.plot(range(2, 11), inertias, marker=\"o\")\n",
        "plt.xlabel(\"K\"); plt.ylabel(\"Inertia\"); plt.title(\"Elbow\")\n",
        "plt.show()\n",
        "\n",
        "print()\n",
        "\n",
        "plt.figure(figsize=(5, 3))\n",
        "plt.plot(range(2, 11), sil_scores, marker=\"o\")\n",
        "plt.xlabel(\"K\"); plt.ylabel(\"Silhouette\"); plt.title(\"Silhouette\")\n",
        "plt.show()"
      ]
    },
    {
      "cell_type": "markdown",
      "metadata": {
        "id": "FPGXSbMyQ-N2"
      },
      "source": [
        "## **KMeans Clustering ⚙️**"
      ]
    },
    {
      "cell_type": "code",
      "execution_count": null,
      "metadata": {
        "colab": {
          "base_uri": "https://localhost:8080/"
        },
        "id": "EtbuMaRPXf29",
        "outputId": "eb9ef2d0-3cdb-4387-8ad9-47e550531b9d"
      },
      "outputs": [
        {
          "name": "stdout",
          "output_type": "stream",
          "text": [
            "KMeans Clustering applied with k=4 ✅\n",
            "✨KMeans silhouette: 0.9243219323207894\n",
            "📐KMeans DB index: 0.43600161534540766\n"
          ]
        }
      ],
      "source": [
        "# kmeans\n",
        "best_k = 4\n",
        "kmeans = KMeans(n_clusters=best_k, n_init=\"auto\", random_state=42)\n",
        "labels_km = kmeans.fit_predict(X_scaled)\n",
        "user_features[\"cluster_km\"] = labels_km\n",
        "print('KMeans Clustering applied with k=4 ✅')\n",
        "print(\"✨KMeans silhouette:\", silhouette_score(X_scaled, labels_km))\n",
        "print(\"📐KMeans DB index:\", davies_bouldin_score(X_scaled, labels_km))"
      ]
    },
    {
      "cell_type": "markdown",
      "metadata": {
        "id": "Dcot79XhRCKt"
      },
      "source": [
        "## **DBSCAN Clustering 🌌**"
      ]
    },
    {
      "cell_type": "code",
      "execution_count": null,
      "metadata": {
        "colab": {
          "base_uri": "https://localhost:8080/"
        },
        "id": "YOiTqtGWXney",
        "outputId": "aeaeec56-96d6-407e-a258-30107bb79b2b"
      },
      "outputs": [
        {
          "name": "stdout",
          "output_type": "stream",
          "text": [
            "eps=0.3: clusters=8, noise=121, silhouette=0.9247003012748408\n",
            "eps=0.5: clusters=5, noise=81, silhouette=0.9217871553456086\n",
            "eps=0.7: clusters=5, noise=71, silhouette=0.9201870974303333\n",
            "eps=1.0: clusters=4, noise=61, silhouette=0.9171953866971159\n"
          ]
        }
      ],
      "source": [
        "# dbscan\n",
        "from sklearn.cluster import DBSCAN\n",
        "for eps in [0.3, 0.5, 0.7, 1.0]:\n",
        "    db = DBSCAN(eps=eps, min_samples=10)\n",
        "    db_labels = db.fit_predict(X_scaled)\n",
        "    n_clusters = len(set(db_labels)) - (1 if -1 in db_labels else 0)\n",
        "    n_noise = np.sum(db_labels == -1)\n",
        "    if n_clusters > 1:\n",
        "        sil = silhouette_score(X_scaled[db_labels!=-1], db_labels[db_labels!=-1])\n",
        "    else:\n",
        "        sil = np.nan\n",
        "    print(f\"eps={eps}: clusters={n_clusters}, noise={n_noise}, silhouette={sil}\")"
      ]
    },
    {
      "cell_type": "code",
      "execution_count": null,
      "metadata": {
        "colab": {
          "base_uri": "https://localhost:8080/"
        },
        "id": "G29OB_tcbdZ_",
        "outputId": "94bc62c9-6de3-48b1-d543-8bc433c89a88"
      },
      "outputs": [
        {
          "name": "stdout",
          "output_type": "stream",
          "text": [
            "DBSCAN Clustering applied with eps=0.7 ✅\n",
            "\n",
            "⚖️Comparing clusters of km to db:\n",
            "cluster_km\n",
            "0    12558\n",
            "1     6445\n",
            "3      170\n",
            "2       26\n",
            "Name: count, dtype: int64\n",
            "\n",
            "cluster_db\n",
            " 3    11958\n",
            " 0     6578\n",
            " 1      334\n",
            " 4      236\n",
            "-1       71\n",
            " 2       22\n",
            "Name: count, dtype: int64\n",
            "\n",
            "🧩Showing the cluster each row belongs to:\n",
            "   UserID  total_play_hours  purchase_count  total_interactions  avg_playtime  \\\n",
            "0     369               3.3             0.0                   1           3.3   \n",
            "1    4514               3.2             0.0                   1           3.2   \n",
            "2    4884               4.7             0.0                   1           4.7   \n",
            "3    6812               7.0             0.0                   1           7.0   \n",
            "4    8338               4.0             0.0                   1           4.0   \n",
            "\n",
            "   unique_genres  unique_categories  purchase_ratio  ARK: Survival Evolved  \\\n",
            "0              1                  1             0.0                    0.0   \n",
            "1              1                  1             0.0                    0.0   \n",
            "2              1                  1             0.0                    0.0   \n",
            "3              1                  1             0.0                    0.0   \n",
            "4              1                  1             0.0                    0.0   \n",
            "\n",
            "   Age of Empires IV: Anniversary Edition  ...  VRChat  Vampire Survivors  \\\n",
            "0                                     0.0  ...     0.0                0.0   \n",
            "1                                     0.0  ...     0.0                0.0   \n",
            "2                                     0.0  ...     0.0                0.0   \n",
            "3                                     0.0  ...     0.0                0.0   \n",
            "4                                     0.0  ...     0.0                0.0   \n",
            "\n",
            "   Wallpaper Engine  War Thunder  Warframe  Warhammer 40000: Darktide  \\\n",
            "0               0.0          0.0       0.0                        0.0   \n",
            "1               0.0          0.0       0.0                        0.0   \n",
            "2               0.0          0.0       0.0                        0.0   \n",
            "3               0.0          0.0       0.0                        0.0   \n",
            "4               0.0          0.0       0.0                        0.0   \n",
            "\n",
            "   Yu-Gi-Oh! Master Duel  theHunter: Call of the Wild™  cluster_km  cluster_db  \n",
            "0                    0.0                           0.0           1           0  \n",
            "1                    0.0                           0.0           1           0  \n",
            "2                    0.0                           0.0           1           0  \n",
            "3                    0.0                           0.0           1           0  \n",
            "4                    0.0                           0.0           1           0  \n",
            "\n",
            "[5 rows x 110 columns]\n"
          ]
        }
      ],
      "source": [
        "# choose eps that gives reasonable clusters and low noise\n",
        "db_labels = DBSCAN(eps=0.7, min_samples=10).fit_predict(X_scaled)\n",
        "user_features[\"cluster_db\"] = db_labels\n",
        "print('DBSCAN Clustering applied with eps=0.7 ✅')\n",
        "print('\\n⚖️Comparing clusters of km to db:')\n",
        "print(user_features[\"cluster_km\"].value_counts())\n",
        "print()\n",
        "print(user_features[\"cluster_db\"].value_counts())\n",
        "\n",
        "# showing the cluster each row belongs to (-1 is noise)\n",
        "print('\\n🧩Showing the cluster each row belongs to:')\n",
        "print(user_features.head())"
      ]
    },
    {
      "cell_type": "markdown",
      "metadata": {
        "id": "xN7HTnA7RHzK"
      },
      "source": [
        "## **Visualizing Clusters 🧮**"
      ]
    },
    {
      "cell_type": "code",
      "execution_count": null,
      "metadata": {
        "colab": {
          "base_uri": "https://localhost:8080/",
          "height": 820
        },
        "id": "5wxRV6FLgK8G",
        "outputId": "4e66a68b-e7a8-46c1-c891-a8ade3cadf5b"
      },
      "outputs": [
        {
          "data": {
            "image/png": "[encoded data removed]",
            "text/plain": [
              "<Figure size 800x400 with 1 Axes>"
            ]
          },
          "metadata": {},
          "output_type": "display_data"
        },
        {
          "name": "stdout",
          "output_type": "stream",
          "text": [
            "\n"
          ]
        },
        {
          "data": {
            "image/png": "[encoded data removed]",
            "text/plain": [
              "<Figure size 800x400 with 1 Axes>"
            ]
          },
          "metadata": {},
          "output_type": "display_data"
        }
      ],
      "source": [
        "# Visualize KMeans clusters\n",
        "plt.figure(figsize=(8, 4))\n",
        "sns.scatterplot(x=X_scaled[:, 0], y=X_scaled[:, 1], hue=user_features['cluster_km'], palette='viridis', legend='full')\n",
        "plt.title('KMeans Clustering')\n",
        "plt.xlabel('Scaled total_play_hours')\n",
        "plt.ylabel('Scaled purchase_count')\n",
        "plt.show()\n",
        "\n",
        "print()\n",
        "\n",
        "# Visualize DBSCAN clusters\n",
        "plt.figure(figsize=(8, 4))\n",
        "sns.scatterplot(x=X_scaled[:, 0], y=X_scaled[:, 1], hue=user_features['cluster_db'], palette='viridis', legend='full')\n",
        "plt.title('DBSCAN Clustering')\n",
        "plt.xlabel('Scaled total_play_hours')\n",
        "plt.ylabel('Scaled purchase_count')\n",
        "plt.show()"
      ]
    },
    {
      "cell_type": "markdown",
      "metadata": {
        "id": "2kjzhaRtR5Xp"
      },
      "source": [
        "## **Outliers Detection 🚨**"
      ]
    },
    {
      "cell_type": "code",
      "execution_count": null,
      "metadata": {
        "colab": {
          "base_uri": "https://localhost:8080/",
          "height": 661
        },
        "id": "TxuPXLqYdRL2",
        "outputId": "8c5d289b-621e-42d3-9411-0a3c9495ddd2"
      },
      "outputs": [
        {
          "name": "stdout",
          "output_type": "stream",
          "text": [
            "🚨 Outliers detected: 1002 values\n",
            "Lower Bound=-25.40, Upper Bound=45.00\n",
            "19864    249.0\n",
            "30959     51.0\n",
            "64290     67.0\n",
            "82585     75.0\n",
            "31183    100.0\n",
            "Name: Hours, dtype: float64\n"
          ]
        },
        {
          "name": "stderr",
          "output_type": "stream",
          "text": [
            "/usr/local/lib/python3.11/dist-packages/IPython/core/pylabtools.py:151: UserWarning: Glyph 128680 (\\N{POLICE CARS REVOLVING LIGHT}) missing from font(s) DejaVu Sans.\n",
            "  fig.canvas.print_figure(bytes_io, **kw)\n"
          ]
        },
        {
          "data": {
            "image/png": "[encoded data removed]",
            "text/plain": [
              "<Figure size 800x500 with 1 Axes>"
            ]
          },
          "metadata": {},
          "output_type": "display_data"
        }
      ],
      "source": [
        "# outliers detection\n",
        "\n",
        "\n",
        "hours_play = df[df[\"Behavior\"]==\"play\"][\"Hours\"]\n",
        "Q1, Q3 = np.percentile(hours_play, [25, 75])\n",
        "IQR = Q3 - Q1\n",
        "lower, upper = Q1 - 1.5*IQR, Q3 + 1.5*IQR\n",
        "\n",
        "outliers = hours_play[(hours_play < lower) | (hours_play > upper)]\n",
        "\n",
        "print(f\"🚨 Outliers detected: {len(outliers)} values\")\n",
        "print(f\"Lower Bound={lower:.2f}, Upper Bound={upper:.2f}\")\n",
        "print(outliers.head())\n",
        "\n",
        "plt.figure(figsize=(8,5))\n",
        "sns.boxplot(x=hours_play, color=\"lightcoral\")\n",
        "plt.title(\"Outliers Detection in Play Hours 🚨\")\n",
        "plt.show()\n"
      ]
    },
    {
      "cell_type": "markdown",
      "metadata": {
        "id": "nEcLB1XZSBza"
      },
      "source": [
        "## **Cluster Profiling 🎯**"
      ]
    },
    {
      "cell_type": "code",
      "execution_count": null,
      "metadata": {
        "colab": {
          "base_uri": "https://localhost:8080/",
          "height": 807
        },
        "id": "XGRMOCxXdSh_",
        "outputId": "e718cb8a-694d-49ed-c1cc-c3591b87b5d1"
      },
      "outputs": [
        {
          "name": "stdout",
          "output_type": "stream",
          "text": [
            "📊 Cluster Profiling:\n",
            "         total_play_hours  purchase_count  total_interactions  avg_playtime  \\\n",
            "Cluster                                                                       \n",
            "0                    5.67            0.68                1.04          5.58   \n",
            "1                 1216.12            0.05                1.08       1199.66   \n",
            "2                 2905.53            0.00                1.00       2905.53   \n",
            "3                  385.23            0.04                1.07        378.57   \n",
            "\n",
            "         purchase_ratio  \n",
            "Cluster                  \n",
            "0                  0.66  \n",
            "1                  0.03  \n",
            "2                  0.00  \n",
            "3                  0.02  \n"
          ]
        },
        {
          "data": {
            "image/png": "[encoded data removed]",
            "text/plain": [
              "<Figure size 800x600 with 1 Axes>"
            ]
          },
          "metadata": {},
          "output_type": "display_data"
        }
      ],
      "source": [
        "features = [\"total_play_hours\", \"purchase_count\", \"total_interactions\", \"avg_playtime\", \"purchase_ratio\"]\n",
        "X = stats[features]\n",
        "\n",
        "kmeans = KMeans(n_clusters=4, random_state=42, n_init=10)\n",
        "stats[\"Cluster\"] = kmeans.fit_predict(X)\n",
        "\n",
        "cluster_profile = stats.groupby(\"Cluster\")[features].mean().round(2)\n",
        "print(\"📊 Cluster Profiling:\")\n",
        "print(cluster_profile)\n",
        "\n",
        "plt.figure(figsize=(8,6))\n",
        "sns.scatterplot(data=stats, x=\"total_play_hours\", y=\"avg_playtime\", hue=\"Cluster\", palette=\"Set2\", alpha=0.7)\n",
        "plt.title(\"Cluster Profiling of Users\")\n",
        "plt.show()"
      ]
    },
    {
      "cell_type": "markdown",
      "metadata": {
        "id": "Bdm7oJ9gGpbI"
      },
      "source": [
        "# **Supervised Prediction**\n"
      ]
    },
    {
      "cell_type": "markdown",
      "metadata": {
        "id": "W69Sk3tTRveM"
      },
      "source": [
        "## **Data Splitting for Supervised Learning**"
      ]
    },
    {
      "cell_type": "code",
      "execution_count": null,
      "metadata": {
        "colab": {
          "base_uri": "https://localhost:8080/"
        },
        "id": "c8gey2SFCUsG",
        "outputId": "eb73bd6c-1bae-43fe-da30-5259690291c8"
      },
      "outputs": [
        {
          "name": "stdout",
          "output_type": "stream",
          "text": [
            "عدد صفوف بيانات التدريب (X_train): 15956\n",
            "عدد صفوف بيانات الاختبار (X_test): 3990\n"
          ]
        }
      ],
      "source": [
        "from sklearn.model_selection import train_test_split\n",
        "\n",
        "final_df = stats.merge(df[['UserID', 'Behavior']], on='UserID', how='left')\n",
        "\n",
        "X = final_df.drop(columns=['UserID', 'Behavior'], errors='ignore')\n",
        "y = final_df['Behavior']\n",
        "\n",
        "X_train, X_test, y_train, y_test = train_test_split(X, y, test_size=0.2, random_state=42)\n",
        "\n",
        "print(f\"عدد صفوف بيانات التدريب (X_train): {X_train.shape[0]}\")\n",
        "print(f\"عدد صفوف بيانات الاختبار (X_test): {X_test.shape[0]}\")"
      ]
    },
    {
      "cell_type": "markdown",
      "metadata": {
        "id": "LBcMZtRfSziQ"
      },
      "source": [
        "## **Model training and comparison**"
      ]
    },
    {
      "cell_type": "code",
      "execution_count": null,
      "metadata": {
        "colab": {
          "base_uri": "https://localhost:8080/"
        },
        "id": "3iKNvzFDCec8",
        "outputId": "ed469c0d-6905-4f3c-e718-001339b18d49"
      },
      "outputs": [
        {
          "name": "stdout",
          "output_type": "stream",
          "text": [
            "Training Logistic Regression model...\n",
            "✅ تدريب نموذج Logistic Regression اكتمل.\n",
            "\n",
            "Training Random Forest model...\n",
            "✅ تدريب نموذج Random Forest اكتمل.\n"
          ]
        }
      ],
      "source": [
        "from sklearn.linear_model import LogisticRegression\n",
        "from sklearn.ensemble import RandomForestClassifier\n",
        "\n",
        "# تهيئة النماذج\n",
        "log_reg = LogisticRegression(random_state=42, solver='liblinear')\n",
        "rf_clf = RandomForestClassifier(random_state=42, n_estimators=100)\n",
        "\n",
        "# تدريب نموذج الانحدار اللوجستي\n",
        "print(\"Training Logistic Regression model...\")\n",
        "log_reg.fit(X_train, y_train)\n",
        "print(\"✅ تدريب نموذج Logistic Regression اكتمل.\")\n",
        "\n",
        "# تدريب نموذج الغابة العشوائية\n",
        "print(\"\\nTraining Random Forest model...\")\n",
        "rf_clf.fit(X_train, y_train)\n",
        "print(\"✅ تدريب نموذج Random Forest اكتمل.\")"
      ]
    },
    {
      "cell_type": "markdown",
      "metadata": {
        "id": "FwHNTZAiS8ph"
      },
      "source": [
        "## **Model Evaluation and Comparison**"
      ]
    },
    {
      "cell_type": "code",
      "execution_count": null,
      "metadata": {
        "colab": {
          "base_uri": "https://localhost:8080/"
        },
        "id": "FhHAEl6xCmT8",
        "outputId": "adb3d172-4382-4dd7-e82f-6801c6244f51"
      },
      "outputs": [
        {
          "name": "stdout",
          "output_type": "stream",
          "text": [
            "✅ تقييم نموذج الانحدار اللوجستي (Logistic Regression):\n",
            "\n",
            "- تقرير التصنيف:\n",
            "              precision    recall  f1-score   support\n",
            "\n",
            "        play       0.97      0.98      0.97      1433\n",
            "    purchase       0.99      0.98      0.98      2557\n",
            "\n",
            "    accuracy                           0.98      3990\n",
            "   macro avg       0.98      0.98      0.98      3990\n",
            "weighted avg       0.98      0.98      0.98      3990\n",
            "\n",
            "\n",
            "- مصفوفة الالتباس:\n",
            "[[1399   34]\n",
            " [  43 2514]]\n",
            "\n",
            "\n",
            "✅ تقييم نموذج الغابة العشوائية (Random Forest):\n",
            "\n",
            "- تقرير التصنيف:\n",
            "              precision    recall  f1-score   support\n",
            "\n",
            "        play       0.96      0.96      0.96      1433\n",
            "    purchase       0.98      0.98      0.98      2557\n",
            "\n",
            "    accuracy                           0.97      3990\n",
            "   macro avg       0.97      0.97      0.97      3990\n",
            "weighted avg       0.97      0.97      0.97      3990\n",
            "\n",
            "\n",
            "- مصفوفة الالتباس:\n",
            "[[1374   59]\n",
            " [  56 2501]]\n"
          ]
        }
      ],
      "source": [
        "from sklearn.metrics import classification_report, confusion_matrix\n",
        "\n",
        "# الحصول على تنبؤات من نموذج الانحدار اللوجستي\n",
        "y_pred_log_reg = log_reg.predict(X_test)\n",
        "\n",
        "# الحصول على تنبؤات من نموذج الغابة العشوائية\n",
        "y_pred_rf = rf_clf.predict(X_test)\n",
        "\n",
        "# --- تقييم نموذج الانحدار اللوجستي ---\n",
        "print(\"✅ تقييم نموذج الانحدار اللوجستي (Logistic Regression):\")\n",
        "print(\"\\n- تقرير التصنيف:\")\n",
        "print(classification_report(y_test, y_pred_log_reg))\n",
        "print(\"\\n- مصفوفة الالتباس:\")\n",
        "print(confusion_matrix(y_test, y_pred_log_reg))\n",
        "\n",
        "# --- تقييم نموذج الغابة العشوائية ---\n",
        "print(\"\\n\\n✅ تقييم نموذج الغابة العشوائية (Random Forest):\")\n",
        "print(\"\\n- تقرير التصنيف:\")\n",
        "print(classification_report(y_test, y_pred_rf))\n",
        "print(\"\\n- مصفوفة الالتباس:\")\n",
        "print(confusion_matrix(y_test, y_pred_rf))"
      ]
    },
    {
      "cell_type": "markdown",
      "metadata": {
        "id": "jryPuc8ktOv2"
      },
      "source": [
        "#  **Final User Interface (Gradio)**\n",
        "\n"
      ]
    },
    {
      "cell_type": "code",
      "execution_count": null,
      "metadata": {
        "colab": {
          "base_uri": "https://localhost:8080/",
          "height": 646
        },
        "id": "1Et7fpeU2Nr-",
        "outputId": "ecd4da0c-1027-4892-f104-edd170b11bb8"
      },
      "outputs": [
        {
          "name": "stdout",
          "output_type": "stream",
          "text": [
            "✅ جارٍ إعداد البيانات وتدريب النماذج...\n",
            "✅ تم الإعداد بنجاح. الواجهة جاهزة للتشغيل.\n",
            "Colab notebook detected. To show errors in colab notebook, set debug=True in launch()\n",
            "* Running on public URL: https://751d0ce5d554f9a85f.gradio.live\n",
            "\n",
            "This share link expires in 1 week. For free permanent hosting and GPU upgrades, run `gradio deploy` from the terminal in the working directory to deploy to Hugging Face Spaces (https://huggingface.co/spaces)\n"
          ]
        },
        {
          "data": {
            "text/html": [
              "<div><iframe src=\"https://751d0ce5d554f9a85f.gradio.live\" width=\"100%\" height=\"500\" allow=\"autoplay; camera; microphone; clipboard-read; clipboard-write;\" frameborder=\"0\" allowfullscreen></iframe></div>"
            ],
            "text/plain": [
              "<IPython.core.display.HTML object>"
            ]
          },
          "metadata": {},
          "output_type": "display_data"
        },
        {
          "data": {
            "text/plain": []
          },
          "execution_count": 40,
          "metadata": {},
          "output_type": "execute_result"
        }
      ],
      "source": [
        "import gradio as gr\n",
        "from sklearn.cluster import KMeans\n",
        "\n",
        "# --- 1. إعداد البيانات وتدريب النماذج ---\n",
        "print(\"✅ جارٍ إعداد البيانات وتدريب النماذج...\")\n",
        "\n",
        "# أ. تحميل البيانات\n",
        "file_path = 'steamgames_100k_rows.csv'\n",
        "try:\n",
        "    df = pd.read_csv(file_path)\n",
        "\n",
        "    has_genres = 'Genres' in df.columns\n",
        "    has_categories = 'Categories' in df.columns\n",
        "\n",
        "    if not has_genres or not has_categories:\n",
        "        print(\"⚠️ ملاحظة: ملف CSV الحالي لا يحتوي على أعمدة 'Genres' و 'Categories'.\")\n",
        "        print(\"سيتم عرض 'Not Available' في التوصيات.\")\n",
        "\n",
        "except FileNotFoundError:\n",
        "    print(\"❌ خطأ: لم يتم العثور على الملف. تأكد من أن الملف تم تحميله مباشرة إلى Colab.\")\n",
        "    exit()\n",
        "\n",
        "# أخذ عينة من البيانات لسرعة المعالجة\n",
        "# NOTE: Sampling a fraction of the data for prototyping. Remove for full run.\n",
        "df = df.sample(frac=0.2, random_state=42)\n",
        "\n",
        "# ب. بناء الخصائص السلوكية للمستخدمين\n",
        "try:\n",
        "    playtime = df[df[\"Behavior\"] == \"play\"].groupby(\"UserID\", observed=True)[\"Hours\"].sum().rename(\"total_play_hours\")\n",
        "    purchases = df[df[\"Behavior\"] == \"purchase\"].groupby(\"UserID\", observed=True).size().rename(\"purchase_count\")\n",
        "    interactions = df.groupby(\"UserID\", observed=True).size().rename(\"total_interactions\")\n",
        "    avg_play = df[df[\"Behavior\"] == \"play\"].groupby(\"UserID\", observed=True)[\"Hours\"].mean().rename(\"avg_playtime\")\n",
        "    stats = pd.concat([playtime, purchases, interactions, avg_play], axis=1).fillna(0).reset_index()\n",
        "    stats[\"purchase_ratio\"] = (stats[\"purchase_count\"] / stats[\"total_interactions\"].replace(0, np.nan)).fillna(0)\n",
        "except Exception as e:\n",
        "    print(f\"❌ خطأ: فشل في بناء الخصائص السلوكية. الخطأ: {e}\")\n",
        "    exit()\n",
        "\n",
        "if stats.empty:\n",
        "    print(\"❌ خطأ: لا يوجد أي مستخدمين صالحين في العينة التي تم تحليلها.\")\n",
        "    exit()\n",
        "\n",
        "# ج. التجميع (Clustering)\n",
        "try:\n",
        "    best_k = 4\n",
        "    dense_cols = [\"total_play_hours\", \"purchase_count\", \"purchase_ratio\", \"avg_playtime\"]\n",
        "    X_dense = stats[dense_cols].copy()\n",
        "    scaler = StandardScaler()\n",
        "    X_scaled = scaler.fit_transform(X_dense)\n",
        "    kmeans = KMeans(n_clusters=best_k, n_init=\"auto\", random_state=42)\n",
        "    stats['Cluster'] = kmeans.fit_predict(X_scaled)\n",
        "except Exception as e:\n",
        "    print(f\"❌ خطأ: فشل في عملية التجميع. الخطأ: {e}\")\n",
        "    exit()\n",
        "\n",
        "# د. التنبؤ (Prediction)\n",
        "try:\n",
        "    log_reg = LogisticRegression(random_state=42, solver='liblinear')\n",
        "    X = stats.drop(columns=['UserID', 'Cluster'])\n",
        "    y = stats['purchase_ratio'].apply(lambda x: 1 if x > 0 else 0)\n",
        "    log_reg.fit(X, y)\n",
        "except Exception as e:\n",
        "    print(f\"❌ خطأ: فشل في تدريب نموذج التنبؤ. الخطاء: {e}\")\n",
        "    exit()\n",
        "\n",
        "print(\"✅ تم الإعداد بنجاح. الواجهة جاهزة للتشغيل.\")\n",
        "\n",
        "# --- 2. تعريف الدوال للواجهة التفاعلية ---\n",
        "\n",
        "def user_profile(uid):\n",
        "    user_data = stats[stats['UserID'] == uid]\n",
        "    if user_data.empty:\n",
        "        return f\"**Error:** User {uid} not found.\"\n",
        "\n",
        "    cluster_name_map = {0: \"اللاعبون المحترفون (Pro Gamers)\", 1: \"المستخدمون العاديون (Casuals)\", 2: \"المشترون (Buyers)\", 3: \"لاعبو الألعاب المجانية (Free-to-Play)\"}\n",
        "    cluster_name = cluster_name_map.get(user_data['Cluster'].iloc[0], \"غير معروفة (Unknown)\")\n",
        "\n",
        "    return f\"\"\"\n",
        "<div style='color: #4CAF50; font-size: 1.2em; font-weight: bold;'>👤 User Profile</div>\n",
        "\n",
        "- **User ID**: {int(uid)}\n",
        "- **Total Play Hours**: {int(user_data['total_play_hours'].iloc[0])} hours\n",
        "- **Purchases**: {int(user_data['purchase_count'].iloc[0])}\n",
        "- **User Type**: {cluster_name}\n",
        "    \"\"\"\n",
        "\n",
        "def purchase_prediction(uid):\n",
        "    user_data = stats[stats['UserID'] == uid]\n",
        "    if user_data.empty:\n",
        "        return f\"**Error:** User {uid} not found.\"\n",
        "\n",
        "    user_features = user_data.drop(columns=['UserID', 'Cluster'])\n",
        "    purchase_prob = log_reg.predict_proba(user_features)[0][1]\n",
        "\n",
        "    prediction_text = \"Highly Likely to Buy\" if purchase_prob > 0.5 else \"Unlikely to Buy\"\n",
        "    purchase_prob_percent = round(purchase_prob * 100, 2)\n",
        "\n",
        "    return f\"\"\"\n",
        "<div style='color: #4CAF50; font-size: 1.2em; font-weight: bold;'>🔮 Purchase Prediction</div>\n",
        "\n",
        "- **Prediction**: {prediction_text}\n",
        "- **Probability**: {purchase_prob_percent}%\n",
        "    \"\"\"\n",
        "\n",
        "def get_recommendations(uid):\n",
        "    user_data = stats[stats['UserID'] == uid]\n",
        "    if user_data.empty:\n",
        "        return \"No data found for this user.\"\n",
        "\n",
        "    interacted_games = df[df['UserID'] == uid]['GameName'].unique()\n",
        "    all_games = df['GameName'].unique()\n",
        "    non_interacted_games = all_games[~np.isin(all_games, interacted_games)]\n",
        "\n",
        "    if len(non_interacted_games) == 0:\n",
        "        return \"This user has interacted with all available games.\"\n",
        "\n",
        "    user_features = user_data.drop(columns=['UserID', 'Cluster'])\n",
        "    purchase_prob = log_reg.predict_proba(user_features)[0][1]\n",
        "\n",
        "    recs_df = pd.DataFrame({'GameName': non_interacted_games, 'PurchaseProbability': [purchase_prob] * len(non_interacted_games)})\n",
        "    recs_df = recs_df.sort_values(by='PurchaseProbability', ascending=False)\n",
        "\n",
        "    output_html = \"\"\n",
        "    cluster_name_map = {0: \"Pro Gamers\", 1: \"Casuals\", 2: \"Buyers\", 3: \"Free-to-Play\"}\n",
        "    cluster_name = cluster_name_map.get(user_data['Cluster'].iloc[0], \"Unknown\")\n",
        "\n",
        "    has_genres = 'Genres' in df.columns\n",
        "    has_categories = 'Categories' in df.columns\n",
        "\n",
        "    for index, row in recs_df.head(5).iterrows():\n",
        "        prob = row['PurchaseProbability']\n",
        "        prob_color = \"#55d852\" if prob > 0.5 else \"#F44336\"\n",
        "\n",
        "        game_info = df[df['GameName'] == row['GameName']].iloc[0]\n",
        "        game_genres = game_info['Genres'] if has_genres else \"Not Available\"\n",
        "        game_categories = game_info['Categories'] if has_categories else \"Not Available\"\n",
        "\n",
        "        output_html += f\"\"\"\n",
        "        <div class=\"rec-card\" style=\"\n",
        "            display: flex;\n",
        "            align-items: center;\n",
        "            background-color: #ffffff;\n",
        "            border: 1px solid #e0e0e0;\n",
        "            border-radius: 8px;\n",
        "            box-shadow: 2px 2px 0px #d0d0d0;\n",
        "            padding: 15px;\n",
        "            margin-bottom: 15px;\n",
        "            transition: transform 0.2s;\n",
        "        \">\n",
        "            <div class=\"game-cover\" style=\"\n",
        "                width: 80px;\n",
        "                height: 80px;\n",
        "                background-color: #ddd;\n",
        "                border: 2px solid #333;\n",
        "                box-shadow: 3px 3px 0px #999;\n",
        "                border-radius: 8px;\n",
        "                margin-right: 15px;\n",
        "                display: flex;\n",
        "                align-items: center;\n",
        "                justify-content: center;\n",
        "                font-size: 40px;\n",
        "                color: #aaa;\n",
        "            \">🎮</div>\n",
        "            <div style=\"flex-grow: 1;\">\n",
        "                <h3 style=\"color: #4CAF50; margin: 0 0 5px 0; font-size: 1.1em; font-weight: 600;\">{row['GameName']}</h3>\n",
        "                <p style=\"color: #666; font-size: 0.9em; margin: 0 0 8px 0;\">\n",
        "                    <span style=\"color: #999;\">🕹️ Genre:</span> {game_genres}\n",
        "                    <br>\n",
        "                    <span style=\"color: #999;\">👥 Style:</span> {game_categories}\n",
        "                </p>\n",
        "                <div class=\"progress-container\" style=\"\n",
        "                    background-color: #ecf0f1;\n",
        "                    border-radius: 5px;\n",
        "                    height: 10px;\n",
        "                    width: 100%;\n",
        "                    overflow: hidden;\n",
        "                \">\n",
        "                    <div class=\"progress-bar\" style=\"\n",
        "                        background-color: {prob_color};\n",
        "                        height: 100%;\n",
        "                        width: {round(prob * 100)}%;\n",
        "                    \"></div>\n",
        "                </div>\n",
        "                <p style=\"color: #333; margin: 5px 0 0 0; font-size: 0.8em;\">**Probability:** <span style=\"font-weight: bold; color: {prob_color};\">{round(prob * 100, 2)}%</span></p>\n",
        "            </div>\n",
        "        </div>\n",
        "        \"\"\"\n",
        "    return f\"\"\"\n",
        "    <div style='color: #2c3e50; font-size: 1.5em; font-weight: bold; margin-bottom: 15px;'>🎯 Recommended Games 🎯</h3></div>\n",
        "    <div>{output_html}</div>\n",
        "    \"\"\"\n",
        "\n",
        "# --- 3. بناء الواجهة باستخدام الدوال المدمجة ---\n",
        "def run_all(uid):\n",
        "    profile = user_profile(uid)\n",
        "    pred = purchase_prediction(uid)\n",
        "    recs = get_recommendations(uid)\n",
        "\n",
        "    return profile, pred, recs\n",
        "\n",
        "poppins_font_url = \"https://fonts.googleapis.com/css2?family=Poppins:wght@400;600;700&display=swap\"\n",
        "pixel_font_url = \"https://fonts.googleapis.com/css2?family=Press+Start+2P&display=swap\"\n",
        "\n",
        "custom_css = f\"\"\"\n",
        "    @import url('{poppins_font_url}');\n",
        "    @import url('{pixel_font_url}');\n",
        "\n",
        "    body {{\n",
        "        background-color: #f0f2f5;\n",
        "        color: #2c3e50;\n",
        "        font-family: 'Poppins', sans-serif;\n",
        "    }}\n",
        "    .gr-button.primary {{\n",
        "        background-color: #34495e;\n",
        "        border: 2px solid #2c3e50;\n",
        "        color: #fff;\n",
        "        transition: all 0.2s;\n",
        "        cursor: pointer;\n",
        "    }}\n",
        "    .gr-button.primary:hover {{\n",
        "        background-color: #2c3e50;\n",
        "        border-color: #34495e;\n",
        "        transform: scale(1.05);\n",
        "    }}\n",
        "    .gradio-container {{\n",
        "        background: #f7f7f7;\n",
        "        border-radius: 15px;\n",
        "        box-shadow: 0 10px 25px rgba(0,0,0,0.1);\n",
        "        padding: 20px;\n",
        "    }}\n",
        "    .pixel-header {{\n",
        "        position: relative;\n",
        "        background-color: #e6f0f5;\n",
        "        padding: 30px;\n",
        "        text-align: center;\n",
        "        border-radius: 15px 15px 0 0;\n",
        "        overflow: hidden;\n",
        "        border-bottom: 3px solid #ccc;\n",
        "    }}\n",
        "    .pixel-header::before {{\n",
        "        content: '';\n",
        "        position: absolute;\n",
        "        bottom: 0;\n",
        "        left: 0;\n",
        "        width: 100%;\n",
        "        height: 10px;\n",
        "        background-color: #d8d8d8;\n",
        "        z-index: 1;\n",
        "    }}\n",
        "    .title-text {{\n",
        "        font-family: 'Press Start 2P', cursive;\n",
        "        color: #34495e;\n",
        "        font-size: 2.5em;\n",
        "        text-align: center;\n",
        "        margin-bottom: 0;\n",
        "        z-index: 3;\n",
        "        position: relative;\n",
        "        text-shadow: 2px 2px 0px #bdc3c7;\n",
        "    }}\n",
        "    .tabs {{\n",
        "        background-color: #ecf0f1;\n",
        "        border-radius: 12px;\n",
        "        padding: 5px;\n",
        "        border: 1px solid #bdc3c7;\n",
        "    }}\n",
        "    .tab-nav button {{\n",
        "        background-color: transparent !important;\n",
        "        border: none !important;\n",
        "        color: #7f8c8d !important;\n",
        "        font-family: 'Poppins', sans-serif;\n",
        "        font-weight: 600;\n",
        "        transition: transform 0.2s, background-color 0.2s;\n",
        "    }}\n",
        "    .tab-nav button:hover {{\n",
        "        transform: translateY(-2px);\n",
        "    }}\n",
        "    .tab-nav button.selected {{\n",
        "        background-color: #34495e !important;\n",
        "        border-radius: 8px !important;\n",
        "        color: #fff !important;\n",
        "        box-shadow: 0 2px 4px rgba(0,0,0,0.1);\n",
        "        transform: scale(1.05);\n",
        "    }}\n",
        "    .rec-card {{\n",
        "        background-color: #ffffff;\n",
        "        border: 1px solid #e0e0e0;\n",
        "        border-radius: 8px;\n",
        "        box-shadow: 2px 2px 0px #d0d0d0;\n",
        "        padding: 15px;\n",
        "        margin-bottom: 15px;\n",
        "        transition: transform 0.2s;\n",
        "    }}\n",
        "    .rec-card:hover {{\n",
        "        transform: translateY(-5px);\n",
        "        box-shadow: 5px 5px 0px #a0a0a0;\n",
        "    }}\n",
        "    .progress-container {{\n",
        "        background-color: #ecf0f1;\n",
        "        border-radius: 5px;\n",
        "        height: 10px;\n",
        "        width: 100%;\n",
        "        overflow: hidden;\n",
        "    }}\n",
        "    .progress-bar {{\n",
        "        background-color: #34495e;\n",
        "        height: 100%;\n",
        "        width: 0%;\n",
        "    }}\n",
        "\"\"\"\n",
        "\n",
        "with gr.Blocks(theme=gr.themes.Monochrome(), css=custom_css) as demo:\n",
        "    with gr.Row():\n",
        "        with gr.Column():\n",
        "            gr.HTML(\"\"\"\n",
        "                <div class=\"pixel-header\">\n",
        "                    <h1 class=\"title-text\">ML GAME RECOMMENDATION SYSTEM</h1>\n",
        "                </div>\n",
        "            \"\"\")\n",
        "\n",
        "    gr.Markdown(\"A professional and modern interface to get personalized game recommendations.\", elem_classes=\"emoji-bg\")\n",
        "\n",
        "    valid_uids = [int(u) for u in stats['UserID'].tolist()]\n",
        "    user_id_input = gr.Dropdown(\n",
        "        label=\"Select User ID\",\n",
        "        choices=valid_uids,\n",
        "        value=valid_uids[0] if valid_uids else None\n",
        "    )\n",
        "\n",
        "    run_btn = gr.Button(\"Get Recommendations\", elem_classes=\"primary\")\n",
        "\n",
        "    with gr.Tabs() as tabs:\n",
        "        with gr.Tab(\"👤 User Profile\"):\n",
        "            profile_out = gr.Markdown()\n",
        "\n",
        "        with gr.Tab(\"🔮 Prediction\"):\n",
        "            prediction_out = gr.Markdown()\n",
        "\n",
        "        with gr.Tab(\"🎯 Recommendations\"):\n",
        "            rec_out = gr.HTML()\n",
        "\n",
        "    run_btn.click(fn=run_all, inputs=user_id_input, outputs=[profile_out, prediction_out, rec_out])\n",
        "\n",
        "demo.launch(share=True)"
      ]
    }
  ],
  "metadata": {
    "colab": {
      "collapsed_sections": [
        "iq0-tPobQKw4",
        "yuoGGkv3QQt4",
        "XTyxwDcaQVlj",
        "7G3lIJePQlr9",
        "AfqRi8bXQdT0"
      ],
      "provenance": []
    },
    "kernelspec": {
      "display_name": "Python 3",
      "name": "python3"
    },
    "language_info": {
      "name": "python"
    }
  },
  "nbformat": 4,
  "nbformat_minor": 0
}